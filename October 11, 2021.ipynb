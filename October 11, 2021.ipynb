{
 "cells": [
  {
   "cell_type": "code",
   "execution_count": 11,
   "id": "af3e5049",
   "metadata": {},
   "outputs": [
    {
     "name": "stdout",
     "output_type": "stream",
     "text": [
      "Welcome to KL motors. \n",
      "Here is our list:\n",
      "{'rolls-royce ghost': 4.3, 'ferrari 812 superfast': 5.2, 'lamborghini aventador': 5.89}\n",
      "Which car would you like to buy?: ferrari 812 superfast\n",
      "Which car would you like to buy?: end\n",
      "\n",
      "The total cost is: 5.2 crores.\n"
     ]
    }
   ],
   "source": [
    "# Kaushal's program: shortened\n",
    "\n",
    "print(\"Welcome to KL motors. \\nHere is our list:\")\n",
    "cars_dict = {\"rolls-royce ghost\": 4.3, \"ferrari 812 superfast\": 5.2, \"lamborghini aventador\": 5.89}\n",
    "cars_list = [k for k in cars_dict.keys()]\n",
    "print(cars_dict)\n",
    "\n",
    "\n",
    "still_ask = True\n",
    "total_cost = 0\n",
    "\n",
    "while still_ask:\n",
    "    \n",
    "    car = input(\"Which car would you like to buy?: \").lower()\n",
    "\n",
    "    if car in cars_list:\n",
    "        cost = cars_dict[car]\n",
    "        total_cost += cost\n",
    "        \n",
    "    elif car == \"end\":\n",
    "        still_ask = False\n",
    "        print(f\"\\nThe total cost is: {total_cost} crores.\")\n",
    "        \n",
    "    else:\n",
    "        print(\"Car not found.\")"
   ]
  },
  {
   "cell_type": "code",
   "execution_count": 4,
   "id": "8b619a49",
   "metadata": {},
   "outputs": [
    {
     "name": "stdout",
     "output_type": "stream",
     "text": [
      "Enter pH: 1\n",
      "Acidic\n"
     ]
    }
   ],
   "source": [
    "# Sanika's program: cleaned code\n",
    "\n",
    "pH=(float(input(\"Enter pH: \")))\n",
    "\n",
    "if pH < 7:\n",
    "    print(\"Acidic\")\n",
    "    \n",
    "elif pH == 7 :\n",
    "    print(\"Neutral\")\n",
    "    \n",
    "elif pH > 7 and pH <= 14:\n",
    "    print(\"Basic\")\n",
    "\n",
    "else:\n",
    "    print(\"Invalid input. Please try positive values.\")"
   ]
  },
  {
   "cell_type": "code",
   "execution_count": 6,
   "id": "ab37f4a7",
   "metadata": {},
   "outputs": [
    {
     "name": "stdout",
     "output_type": "stream",
     "text": [
      "Please enter your marks: 98\n",
      "Very good. :-D\n"
     ]
    }
   ],
   "source": [
    "# Kaushal's assignment\n",
    "\n",
    "# < 35: fail; 35 < x < 45: Just passed; 46 < x < 74: average; 75 < x < 90: good; 90 < x < 100: very good\n",
    "\n",
    "marks = float(input(\"Please enter your marks: \"))\n",
    "\n",
    "if marks < 35:\n",
    "    print('You failed :-(')\n",
    "    \n",
    "elif marks > 35 and marks < 45:\n",
    "    print(\"Phew! You just passed.\")\n",
    "    \n",
    "elif marks > 46 and marks < 74:\n",
    "    print(\"You scored Average :-|\")\n",
    "    \n",
    "elif marks > 75 and marks < 90:\n",
    "    print(\"You scored good. :-)\")\n",
    "    \n",
    "elif marks > 90 and marks < 100:\n",
    "    print(\"Very good. :-D\")\n",
    "    \n",
    "else:\n",
    "    print(\"Please enter valid marks ranging from 0 to 100.\")"
   ]
  },
  {
   "cell_type": "code",
   "execution_count": null,
   "id": "175d0cd8",
   "metadata": {},
   "outputs": [],
   "source": []
  }
 ],
 "metadata": {
  "kernelspec": {
   "display_name": "Python 3 (ipykernel)",
   "language": "python",
   "name": "python3"
  },
  "language_info": {
   "codemirror_mode": {
    "name": "ipython",
    "version": 3
   },
   "file_extension": ".py",
   "mimetype": "text/x-python",
   "name": "python",
   "nbconvert_exporter": "python",
   "pygments_lexer": "ipython3",
   "version": "3.9.5"
  }
 },
 "nbformat": 4,
 "nbformat_minor": 5
}
