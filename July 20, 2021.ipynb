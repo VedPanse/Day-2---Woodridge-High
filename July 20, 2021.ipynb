{
 "cells": [
  {
   "cell_type": "code",
   "execution_count": 2,
   "id": "8dab3790",
   "metadata": {},
   "outputs": [
    {
     "name": "stdout",
     "output_type": "stream",
     "text": [
      "Enter your name: Ved\n",
      "Enter your age: 19\n",
      "Ved is currently 19 years old and he will turn hundred in 81 years, in 2102\n"
     ]
    }
   ],
   "source": [
    "a = input(\"Enter your name: \")\n",
    "b = int(input(\"Enter your age: \"))\n",
    "c = 100 - b\n",
    "year = 2021 + c\n",
    "\n",
    "# Ved is currently {age} years old and he will turn hundred in {year}.\n",
    "print(a, \"is currently\", b, \"years old and he will turn hundred in\", c, \"years, in\", year)"
   ]
  },
  {
   "cell_type": "code",
   "execution_count": 7,
   "id": "b65226f3",
   "metadata": {},
   "outputs": [],
   "source": [
    "# Difference between else and elif\n",
    "\n",
    "if (condition):\n",
    "    print(\"if block\")\n",
    "elif (condition2):\n",
    "    print(\"elif block\")\n",
    "else:\n",
    "    print(\"else block\")"
   ]
  },
  {
   "cell_type": "code",
   "execution_count": 6,
   "id": "cfea1287",
   "metadata": {},
   "outputs": [
    {
     "name": "stdout",
     "output_type": "stream",
     "text": [
      "20\n",
      "22\n",
      "24\n",
      "26\n",
      "28\n"
     ]
    }
   ],
   "source": [
    "for i in range(20, 30, 2):\n",
    "    print(i)\n"
   ]
  },
  {
   "cell_type": "code",
   "execution_count": 9,
   "id": "8c6cf4f7",
   "metadata": {},
   "outputs": [
    {
     "name": "stdout",
     "output_type": "stream",
     "text": [
      "5\n",
      "10\n",
      "15\n",
      "20\n",
      "25\n",
      "30\n",
      "35\n",
      "40\n",
      "45\n",
      "50\n"
     ]
    }
   ],
   "source": [
    "for i in range(5, 51, 5):\n",
    "    print(i)"
   ]
  },
  {
   "cell_type": "code",
   "execution_count": 10,
   "id": "e38db90a",
   "metadata": {},
   "outputs": [
    {
     "name": "stdout",
     "output_type": "stream",
     "text": [
      "I\n",
      "N\n",
      "D\n",
      "I\n",
      "A\n"
     ]
    }
   ],
   "source": [
    "country = \"INDIA\"\n",
    "for i in country:\n",
    "    print(i)"
   ]
  },
  {
   "cell_type": "code",
   "execution_count": 13,
   "id": "64f82d5f",
   "metadata": {},
   "outputs": [
    {
     "name": "stdout",
     "output_type": "stream",
     "text": [
      "C\n",
      "O\n",
      "M\n",
      "P\n",
      "U\n",
      "T\n",
      "E\n",
      "R\n"
     ]
    }
   ],
   "source": [
    "DEVICE = \"COMPUTER\"\n",
    "for c in DEVICE:\n",
    "    print(c)"
   ]
  },
  {
   "cell_type": "code",
   "execution_count": 17,
   "id": "456d49a3",
   "metadata": {},
   "outputs": [
    {
     "name": "stdout",
     "output_type": "stream",
     "text": [
      "12\n",
      "10\n"
     ]
    }
   ],
   "source": [
    "i = 0; sum = 0\n",
    "while i < 9:\n",
    "    if i % 4 == 0:\n",
    "        sum = sum + i\n",
    "    i = i + 2\n",
    "print(sum)\n",
    "print(i)"
   ]
  },
  {
   "cell_type": "code",
   "execution_count": 18,
   "id": "c3c6e441",
   "metadata": {},
   "outputs": [
    {
     "name": "stdout",
     "output_type": "stream",
     "text": [
      "Name of school: Woodridge High\n",
      "Student Name: Ved Panse\n",
      "Roll no.: 9\n",
      "Class: XI\n",
      "Section: D\n",
      "Adress Line 1: Kranti Chowk\n",
      "Address Line 2: Aurangabad\n",
      "City: Aurangabad\n",
      "Pin Code:431001\n",
      "Contact number: 8554854411\n"
     ]
    }
   ],
   "source": [
    "school_name = str(input(\"Name of school: \"))\n",
    "student_name = str(input(\"Student Name: \"))\n",
    "roll_number = int(input(\"Roll no.: \"))\n",
    "\n",
    "standard = str(input(\"Class: \"))\n",
    "section = str(input(\"Section: \"))\n",
    "address = str(input(\"Adress Line 1: \"))\n",
    "address2 = str((input(\"Address Line 2: \")))\n",
    "\n",
    "city = str(input(\"City: \"))\n",
    "pincode = int(input(\"Pin Code:\"))\n",
    "\n",
    "parent_number = int(input(\"Contact number: \"))\n",
    "\n"
   ]
  },
  {
   "cell_type": "code",
   "execution_count": 19,
   "id": "17c14c5b",
   "metadata": {},
   "outputs": [
    {
     "name": "stdout",
     "output_type": "stream",
     "text": [
      "Name of school: Woodridge\n",
      "Student Name: Ved Panse\n",
      "Roll no.: 1\n",
      "Class: XI\n",
      "Section: D\n",
      "Adress Line 1: Bhagyanagar\n",
      "Address Line 2: Kranti Chowk\n",
      "City: Aurangabad\n",
      "Pin Code:431001\n",
      "Contact number: 8554854411\n",
      "My school's name is Woodridge . I am Ved Panse Roll no = 1 class: XI section: D address: Bhagyanagar address2:  Kranti Chowk city: Aurangabad pincode: 431001 contact no: 8554854411\n"
     ]
    }
   ],
   "source": [
    "a = str(input(\"Name of school: \"))\n",
    "b = str(input(\"Student Name: \"))\n",
    "c = int(input(\"Roll no.: \"))\n",
    "\n",
    "d = str(input(\"Class: \"))\n",
    "e = str(input(\"Section: \"))\n",
    "f = str(input(\"Adress Line 1: \"))\n",
    "g = str((input(\"Address Line 2: \")))\n",
    "\n",
    "h = str(input(\"City: \"))\n",
    "i = int(input(\"Pin Code:\"))\n",
    "\n",
    "j = int(input(\"Contact number: \"))\n",
    "\n",
    "print(\"My school's name is\", a, \". I am\", b, \"Roll no =\", c, \"class:\", d, \"section:\", e, \"address:\", f, \"address2: \", g, \"city:\", h, \"pincode:\", i, \"contact no:\", j)"
   ]
  },
  {
   "cell_type": "code",
   "execution_count": null,
   "id": "d4023f20",
   "metadata": {},
   "outputs": [],
   "source": []
  }
 ],
 "metadata": {
  "kernelspec": {
   "display_name": "Python 3 (ipykernel)",
   "language": "python",
   "name": "python3"
  },
  "language_info": {
   "codemirror_mode": {
    "name": "ipython",
    "version": 3
   },
   "file_extension": ".py",
   "mimetype": "text/x-python",
   "name": "python",
   "nbconvert_exporter": "python",
   "pygments_lexer": "ipython3",
   "version": "3.9.5"
  }
 },
 "nbformat": 4,
 "nbformat_minor": 5
}
