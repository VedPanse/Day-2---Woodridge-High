{
 "cells": [
  {
   "cell_type": "code",
   "execution_count": 4,
   "id": "38550d5f",
   "metadata": {},
   "outputs": [],
   "source": [
    "# FUNCTIONS\n",
    "\n",
    "# chr(), ord()\n",
    "# abs(), min(), sum(), max(), sum(), pow()\n",
    "# len(), range()\n",
    "\n"
   ]
  },
  {
   "cell_type": "code",
   "execution_count": 3,
   "id": "85ab7bc2",
   "metadata": {},
   "outputs": [
    {
     "name": "stdout",
     "output_type": "stream",
     "text": [
      "8\n"
     ]
    }
   ],
   "source": [
    "# len()\n",
    "my_str = \"Class XI\"\n",
    "print(len(my_str))"
   ]
  },
  {
   "cell_type": "code",
   "execution_count": 8,
   "id": "89ac45f0",
   "metadata": {},
   "outputs": [
    {
     "name": "stdout",
     "output_type": "stream",
     "text": [
      "1\n",
      "3\n",
      "5\n",
      "7\n",
      "9\n",
      "11\n",
      "13\n",
      "15\n",
      "17\n",
      "19\n"
     ]
    }
   ],
   "source": [
    "# range(start, end, jump)\n",
    "\n",
    "# Example 1\n",
    "\n",
    "my_range = range(1, 20, 2)\n",
    "\n",
    "for i in my_range:\n",
    "    print(i)"
   ]
  },
  {
   "cell_type": "code",
   "execution_count": 10,
   "id": "ef760db0",
   "metadata": {},
   "outputs": [
    {
     "name": "stdout",
     "output_type": "stream",
     "text": [
      "5\n",
      "10\n",
      "15\n",
      "20\n"
     ]
    }
   ],
   "source": [
    "# Example 2\n",
    "\n",
    "for i in range(5, 25, 5):\n",
    "    print(i)"
   ]
  },
  {
   "cell_type": "code",
   "execution_count": 12,
   "id": "2c1617b3",
   "metadata": {},
   "outputs": [
    {
     "name": "stdout",
     "output_type": "stream",
     "text": [
      "8\n",
      "64\n"
     ]
    }
   ],
   "source": [
    "# abs(), min(), max(), sum(), pow()\n",
    "\n",
    "# pow(base, exponent)\n",
    "print(pow(2, 3))\n",
    "print(pow(4, 3))"
   ]
  },
  {
   "cell_type": "code",
   "execution_count": 15,
   "id": "dfa42872",
   "metadata": {},
   "outputs": [
    {
     "name": "stdout",
     "output_type": "stream",
     "text": [
      "26\n"
     ]
    }
   ],
   "source": [
    "# sum()\n",
    "\n",
    "# Works ONLY with lists\n",
    "\n",
    "# Example 1\n",
    "my_list = [1, 12, 13]\n",
    "print(sum(my_list))"
   ]
  },
  {
   "cell_type": "code",
   "execution_count": 20,
   "id": "258c9925",
   "metadata": {},
   "outputs": [
    {
     "name": "stdout",
     "output_type": "stream",
     "text": [
      "4\n"
     ]
    }
   ],
   "source": [
    "# min()\n",
    "\n",
    "# Works ONLY with lists\n",
    "\n",
    "# Example 1\n",
    "\n",
    "my_list = [4, 5, 12, 34, 34]\n",
    "print(min(my_list))"
   ]
  },
  {
   "cell_type": "code",
   "execution_count": 21,
   "id": "e37bad8a",
   "metadata": {},
   "outputs": [
    {
     "name": "stdout",
     "output_type": "stream",
     "text": [
      "12\n"
     ]
    }
   ],
   "source": [
    "# max()\n",
    "\n",
    "# Works ONLY with lists\n",
    "\n",
    "# Example 1\n",
    "list_one = [3, 6, 8, 12]\n",
    "print(max(list_one))"
   ]
  },
  {
   "cell_type": "code",
   "execution_count": 26,
   "id": "bfacb3cf",
   "metadata": {},
   "outputs": [
    {
     "name": "stdout",
     "output_type": "stream",
     "text": [
      "16\n",
      "16\n"
     ]
    }
   ],
   "source": [
    "# abs(any number)\n",
    "\n",
    "# modulus (absolute value)\n",
    "\n",
    "# Example 1\n",
    "\n",
    "print(abs(-8*2))\n",
    "\n",
    "# Example 2\n",
    "print(abs(8*2))"
   ]
  },
  {
   "cell_type": "code",
   "execution_count": 35,
   "id": "19438273",
   "metadata": {},
   "outputs": [
    {
     "name": "stdout",
     "output_type": "stream",
     "text": [
      "a\n",
      "97\n",
      "A\n"
     ]
    }
   ],
   "source": [
    "# chr(), ord()\n",
    "\n",
    "# chr()\n",
    "\n",
    "print(chr(97))\n",
    "\n",
    "print(ord(\"a\"))\n",
    "\n",
    "print(chr(65))"
   ]
  },
  {
   "cell_type": "code",
   "execution_count": 39,
   "id": "4152a791",
   "metadata": {},
   "outputs": [
    {
     "name": "stdout",
     "output_type": "stream",
     "text": [
      "35\n"
     ]
    }
   ],
   "source": [
    "# ord()\n",
    "print(ord(\"#\"))"
   ]
  },
  {
   "cell_type": "code",
   "execution_count": 40,
   "id": "c7670e06",
   "metadata": {},
   "outputs": [
    {
     "name": "stdout",
     "output_type": "stream",
     "text": [
      "ý\n"
     ]
    }
   ],
   "source": [
    "print(chr(253))"
   ]
  },
  {
   "cell_type": "code",
   "execution_count": 41,
   "id": "eb33d85e",
   "metadata": {},
   "outputs": [],
   "source": [
    "# LOOP STATEMENTS\n",
    "\n",
    "# while, for, if, elif, else, nested loops"
   ]
  },
  {
   "cell_type": "code",
   "execution_count": 51,
   "id": "88bf4a2f",
   "metadata": {},
   "outputs": [
    {
     "name": "stdout",
     "output_type": "stream",
     "text": [
      "IP\n",
      "IP\n",
      "IP\n"
     ]
    }
   ],
   "source": [
    "# for loop\n",
    "\n",
    "a = 1\n",
    "b = 2\n",
    "c = 3\n",
    "\n",
    "for i in range(c):\n",
    "    print(\"IP\")"
   ]
  },
  {
   "cell_type": "code",
   "execution_count": 56,
   "id": "bec1e96e",
   "metadata": {},
   "outputs": [
    {
     "name": "stdout",
     "output_type": "stream",
     "text": [
      "23.668639053254434\n",
      "You might be well nourished or overweight.\n"
     ]
    }
   ],
   "source": [
    "# if/else loop\n",
    "\n",
    "# Example 1: Calculating BMI\n",
    "# BMI = weight/(height^2)\n",
    "\n",
    "height = 1.3\n",
    "weight = 40\n",
    "\n",
    "BMI = weight/(height**2)\n",
    "\n",
    "# BMI < 18.5: underweight\n",
    "# BMI > 24.5: overweight\n",
    "print(BMI)\n",
    "if (BMI < 18.5):\n",
    "    print(\"You are underweight.\")\n",
    "else:\n",
    "    print(\"You might be well nourished or overweight.\")"
   ]
  },
  {
   "cell_type": "code",
   "execution_count": 63,
   "id": "e012b9b6",
   "metadata": {},
   "outputs": [
    {
     "name": "stdout",
     "output_type": "stream",
     "text": [
      "Enter weight in kg: 80\n",
      "Enter height in m: 1.5\n",
      "35.55555555555556\n",
      "You are overweight. Your BMI should have been 15.555555555555557 less.\n"
     ]
    }
   ],
   "source": [
    "# If, elif, else\n",
    "\n",
    "weight = float(input(\"Enter weight in kg: \"))\n",
    "height = float(input(\"Enter height in m: \"))\n",
    "\n",
    "BMI = weight/(height**2)\n",
    "\n",
    "print(BMI)\n",
    "\n",
    "if BMI < 18.5:\n",
    "    print(\"You are undernourished.\")\n",
    "elif BMI > 18.5 and BMI < 24.5:\n",
    "    print(\"You are well nourished.\")\n",
    "else:\n",
    "    print(f\"You are overweight. Your BMI should have been {BMI - 20} less.\")"
   ]
  },
  {
   "cell_type": "code",
   "execution_count": null,
   "id": "30e7a0cc",
   "metadata": {},
   "outputs": [],
   "source": []
  }
 ],
 "metadata": {
  "kernelspec": {
   "display_name": "Python 3 (ipykernel)",
   "language": "python",
   "name": "python3"
  },
  "language_info": {
   "codemirror_mode": {
    "name": "ipython",
    "version": 3
   },
   "file_extension": ".py",
   "mimetype": "text/x-python",
   "name": "python",
   "nbconvert_exporter": "python",
   "pygments_lexer": "ipython3",
   "version": "3.9.5"
  }
 },
 "nbformat": 4,
 "nbformat_minor": 5
}
