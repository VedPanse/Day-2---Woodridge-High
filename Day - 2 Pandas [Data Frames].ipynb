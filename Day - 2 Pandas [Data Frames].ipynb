{
 "cells": [
  {
   "cell_type": "code",
   "execution_count": 1,
   "id": "519f8963",
   "metadata": {},
   "outputs": [],
   "source": [
    "#Data Frames"
   ]
  },
  {
   "cell_type": "code",
   "execution_count": 2,
   "id": "d21d067c",
   "metadata": {},
   "outputs": [],
   "source": [
    "import pandas as pd\n",
    "import numpy as np"
   ]
  },
  {
   "cell_type": "code",
   "execution_count": 3,
   "id": "823ead77",
   "metadata": {},
   "outputs": [],
   "source": [
    "a=np.array([1,2,3,4,5])\n",
    "b=np.array([6,7,8,9,10])\n",
    "c=np.array([11,12,13,14,15])"
   ]
  },
  {
   "cell_type": "code",
   "execution_count": 4,
   "id": "91ad8d3a",
   "metadata": {},
   "outputs": [],
   "source": [
    "d=pd.DataFrame([a,b,c],columns=['a','b','c','d','e'])"
   ]
  },
  {
   "cell_type": "code",
   "execution_count": 5,
   "id": "ca81ced0",
   "metadata": {},
   "outputs": [
    {
     "name": "stdout",
     "output_type": "stream",
     "text": [
      "    a   b   c   d   e\n",
      "0   1   2   3   4   5\n",
      "1   6   7   8   9  10\n",
      "2  11  12  13  14  15\n"
     ]
    }
   ],
   "source": [
    "print(d)"
   ]
  },
  {
   "cell_type": "code",
   "execution_count": 6,
   "id": "bbb64b0a",
   "metadata": {},
   "outputs": [],
   "source": [
    "#DataFrame from numpy --> array\n",
    "d=np.array(['a','b','c','d','e'])\n",
    "e=np.array(['f','g','h','i','j'])\n",
    "f=np.array(['k','l','m','n','o'])"
   ]
  },
  {
   "cell_type": "code",
   "execution_count": 7,
   "id": "7d1d3ce1",
   "metadata": {},
   "outputs": [],
   "source": [
    "g=pd.DataFrame([d,e,f])"
   ]
  },
  {
   "cell_type": "code",
   "execution_count": 8,
   "id": "821b023c",
   "metadata": {},
   "outputs": [
    {
     "name": "stdout",
     "output_type": "stream",
     "text": [
      "   0  1  2  3  4\n",
      "0  a  b  c  d  e\n",
      "1  f  g  h  i  j\n",
      "2  k  l  m  n  o\n"
     ]
    }
   ],
   "source": [
    "print(g)"
   ]
  },
  {
   "cell_type": "code",
   "execution_count": 9,
   "id": "ee8bcd91",
   "metadata": {},
   "outputs": [],
   "source": [
    "#Direct DataFrame\n",
    "h=pd.DataFrame([\n",
    "                [1,2,3,4,5],\n",
    "                ['a','b','c','d','e'],\n",
    "                ['!','@','$','%','#'],\n",
    "                ['1a','2b','3c','4c','5e']\n",
    "])"
   ]
  },
  {
   "cell_type": "code",
   "execution_count": 10,
   "id": "931653d3",
   "metadata": {},
   "outputs": [
    {
     "name": "stdout",
     "output_type": "stream",
     "text": [
      "    0   1   2   3   4\n",
      "0   1   2   3   4   5\n",
      "1   a   b   c   d   e\n",
      "2   !   @   $   %   #\n",
      "3  1a  2b  3c  4c  5e\n"
     ]
    }
   ],
   "source": [
    "print(h)"
   ]
  },
  {
   "cell_type": "code",
   "execution_count": 11,
   "id": "8ec14f0d",
   "metadata": {},
   "outputs": [],
   "source": [
    "#Dataframes from list of dictonaries\n",
    "i=pd.DataFrame([\n",
    "                {'a':10,'b':20},\n",
    "                {'a':30,'b':40},\n",
    "                {'a':50,'b':60},\n",
    "                {'a':70,'b':80},\n",
    "                {'a':90,'b':100}\n",
    "])"
   ]
  },
  {
   "cell_type": "code",
   "execution_count": 12,
   "id": "0d7be5e1",
   "metadata": {},
   "outputs": [
    {
     "name": "stdout",
     "output_type": "stream",
     "text": [
      "    a    b\n",
      "0  10   20\n",
      "1  30   40\n",
      "2  50   60\n",
      "3  70   80\n",
      "4  90  100\n"
     ]
    }
   ],
   "source": [
    "print(i)"
   ]
  },
  {
   "cell_type": "code",
   "execution_count": 13,
   "id": "c87447bc",
   "metadata": {},
   "outputs": [],
   "source": [
    "j1=pd.Series([1,2,3,4,5])\n",
    "j2=pd.Series(['1a','2b','3c','4d','5e'])\n",
    "j3=pd.Series(['!','@','#','$','%'])"
   ]
  },
  {
   "cell_type": "code",
   "execution_count": 14,
   "id": "6b57b664",
   "metadata": {},
   "outputs": [],
   "source": [
    "k=pd.DataFrame([j1,j2,j3])"
   ]
  },
  {
   "cell_type": "code",
   "execution_count": 15,
   "id": "ad10ae1e",
   "metadata": {},
   "outputs": [
    {
     "name": "stdout",
     "output_type": "stream",
     "text": [
      "    0   1   2   3   4\n",
      "0   1   2   3   4   5\n",
      "1  1a  2b  3c  4d  5e\n",
      "2   !   @   #   $   %\n"
     ]
    }
   ],
   "source": [
    "print(k)"
   ]
  },
  {
   "cell_type": "code",
   "execution_count": 16,
   "id": "4c60d07a",
   "metadata": {},
   "outputs": [],
   "source": [
    "l={\n",
    "    'Purvesh':pd.Series([99,98,97,96],index=['Phy','Chem','Maths','Bio']),\n",
    "    'Spandan':pd.Series([98,97,96,95],index=['Phy','Chem','Maths','Bio']),\n",
    "    'Vinit':pd.Series([97,96,95,94],index=['Phy','Chem','Maths','Bio']),\n",
    "    'Ved':pd.Series([96,95,94,93],index=['Phy','Chem','Maths','Bio'])\n",
    "}"
   ]
  },
  {
   "cell_type": "code",
   "execution_count": 17,
   "id": "4f341da8",
   "metadata": {},
   "outputs": [
    {
     "name": "stdout",
     "output_type": "stream",
     "text": [
      "{'Purvesh': Phy      99\n",
      "Chem     98\n",
      "Maths    97\n",
      "Bio      96\n",
      "dtype: int64, 'Spandan': Phy      98\n",
      "Chem     97\n",
      "Maths    96\n",
      "Bio      95\n",
      "dtype: int64, 'Vinit': Phy      97\n",
      "Chem     96\n",
      "Maths    95\n",
      "Bio      94\n",
      "dtype: int64, 'Ved': Phy      96\n",
      "Chem     95\n",
      "Maths    94\n",
      "Bio      93\n",
      "dtype: int64}\n"
     ]
    }
   ],
   "source": [
    "print(l)"
   ]
  },
  {
   "cell_type": "code",
   "execution_count": 18,
   "id": "0621bc31",
   "metadata": {},
   "outputs": [],
   "source": [
    "m=pd.DataFrame(l)"
   ]
  },
  {
   "cell_type": "code",
   "execution_count": 19,
   "id": "56d68424",
   "metadata": {},
   "outputs": [
    {
     "name": "stdout",
     "output_type": "stream",
     "text": [
      "       Purvesh  Spandan  Vinit  Ved\n",
      "Phy         99       98     97   96\n",
      "Chem        98       97     96   95\n",
      "Maths       97       96     95   94\n",
      "Bio         96       95     94   93\n"
     ]
    }
   ],
   "source": [
    "print(m)"
   ]
  },
  {
   "cell_type": "code",
   "execution_count": 20,
   "id": "82e80039",
   "metadata": {},
   "outputs": [],
   "source": [
    "#Adding a new column\n",
    "m['Prayag']=[91,92,93,94]"
   ]
  },
  {
   "cell_type": "code",
   "execution_count": 21,
   "id": "108d78cb",
   "metadata": {},
   "outputs": [
    {
     "name": "stdout",
     "output_type": "stream",
     "text": [
      "       Purvesh  Spandan  Vinit  Ved  Prayag\n",
      "Phy         99       98     97   96      91\n",
      "Chem        98       97     96   95      92\n",
      "Maths       97       96     95   94      93\n",
      "Bio         96       95     94   93      94\n"
     ]
    }
   ],
   "source": [
    "print(m)"
   ]
  },
  {
   "cell_type": "code",
   "execution_count": 22,
   "id": "d8561d82",
   "metadata": {},
   "outputs": [],
   "source": [
    "m['Purvesh']=[99,98,9,96]"
   ]
  },
  {
   "cell_type": "code",
   "execution_count": 23,
   "id": "109ec1ac",
   "metadata": {},
   "outputs": [
    {
     "name": "stdout",
     "output_type": "stream",
     "text": [
      "       Purvesh  Spandan  Vinit  Ved  Prayag\n",
      "Phy         99       98     97   96      91\n",
      "Chem        98       97     96   95      92\n",
      "Maths        9       96     95   94      93\n",
      "Bio         96       95     94   93      94\n"
     ]
    }
   ],
   "source": [
    "print(m)"
   ]
  },
  {
   "cell_type": "code",
   "execution_count": 24,
   "id": "ba548c3d",
   "metadata": {},
   "outputs": [],
   "source": [
    "m.loc['IP']=[1,2,3,4,5]"
   ]
  },
  {
   "cell_type": "code",
   "execution_count": 25,
   "id": "9daa8f5b",
   "metadata": {},
   "outputs": [
    {
     "name": "stdout",
     "output_type": "stream",
     "text": [
      "       Purvesh  Spandan  Vinit  Ved  Prayag\n",
      "Phy         99       98     97   96      91\n",
      "Chem        98       97     96   95      92\n",
      "Maths        9       96     95   94      93\n",
      "Bio         96       95     94   93      94\n",
      "IP           1        2      3    4       5\n"
     ]
    }
   ],
   "source": [
    "print(m)"
   ]
  },
  {
   "cell_type": "code",
   "execution_count": 26,
   "id": "27310d6f",
   "metadata": {},
   "outputs": [],
   "source": [
    "m.loc['Chem']=[98/2,97/2,96/2,95/2,92/2]"
   ]
  },
  {
   "cell_type": "code",
   "execution_count": 27,
   "id": "6a117c58",
   "metadata": {},
   "outputs": [
    {
     "name": "stdout",
     "output_type": "stream",
     "text": [
      "       Purvesh  Spandan  Vinit   Ved  Prayag\n",
      "Phy         99     98.0     97  96.0      91\n",
      "Chem        49     48.5     48  47.5      46\n",
      "Maths        9     96.0     95  94.0      93\n",
      "Bio         96     95.0     94  93.0      94\n",
      "IP           1      2.0      3   4.0       5\n"
     ]
    }
   ],
   "source": [
    "print(m)"
   ]
  },
  {
   "cell_type": "code",
   "execution_count": 28,
   "id": "f0a0ea0a",
   "metadata": {},
   "outputs": [],
   "source": [
    "m.loc['IP']=0"
   ]
  },
  {
   "cell_type": "code",
   "execution_count": 29,
   "id": "e2165b39",
   "metadata": {},
   "outputs": [
    {
     "name": "stdout",
     "output_type": "stream",
     "text": [
      "       Purvesh  Spandan  Vinit   Ved  Prayag\n",
      "Phy         99     98.0     97  96.0      91\n",
      "Chem        49     48.5     48  47.5      46\n",
      "Maths        9     96.0     95  94.0      93\n",
      "Bio         96     95.0     94  93.0      94\n",
      "IP           0      0.0      0   0.0       0\n"
     ]
    }
   ],
   "source": [
    "print(m)"
   ]
  },
  {
   "cell_type": "code",
   "execution_count": 30,
   "id": "fe312fe6",
   "metadata": {},
   "outputs": [],
   "source": [
    "# m.loc[:]=69"
   ]
  },
  {
   "cell_type": "code",
   "execution_count": 31,
   "id": "62883c45",
   "metadata": {},
   "outputs": [
    {
     "name": "stdout",
     "output_type": "stream",
     "text": [
      "       Purvesh  Spandan  Vinit   Ved  Prayag\n",
      "Phy         99     98.0     97  96.0      91\n",
      "Chem        49     48.5     48  47.5      46\n",
      "Maths        9     96.0     95  94.0      93\n",
      "Bio         96     95.0     94  93.0      94\n",
      "IP           0      0.0      0   0.0       0\n"
     ]
    }
   ],
   "source": [
    "print(m)"
   ]
  },
  {
   "cell_type": "code",
   "execution_count": 32,
   "id": "0ec3f3cf",
   "metadata": {},
   "outputs": [
    {
     "data": {
      "text/html": [
       "<div>\n",
       "<style scoped>\n",
       "    .dataframe tbody tr th:only-of-type {\n",
       "        vertical-align: middle;\n",
       "    }\n",
       "\n",
       "    .dataframe tbody tr th {\n",
       "        vertical-align: top;\n",
       "    }\n",
       "\n",
       "    .dataframe thead th {\n",
       "        text-align: right;\n",
       "    }\n",
       "</style>\n",
       "<table border=\"1\" class=\"dataframe\">\n",
       "  <thead>\n",
       "    <tr style=\"text-align: right;\">\n",
       "      <th></th>\n",
       "      <th>Purvesh</th>\n",
       "      <th>Spandan</th>\n",
       "      <th>Vinit</th>\n",
       "      <th>Ved</th>\n",
       "      <th>Prayag</th>\n",
       "    </tr>\n",
       "  </thead>\n",
       "  <tbody>\n",
       "    <tr>\n",
       "      <th>Phy</th>\n",
       "      <td>99</td>\n",
       "      <td>98.0</td>\n",
       "      <td>97</td>\n",
       "      <td>96.0</td>\n",
       "      <td>91</td>\n",
       "    </tr>\n",
       "    <tr>\n",
       "      <th>Chem</th>\n",
       "      <td>49</td>\n",
       "      <td>48.5</td>\n",
       "      <td>48</td>\n",
       "      <td>47.5</td>\n",
       "      <td>46</td>\n",
       "    </tr>\n",
       "    <tr>\n",
       "      <th>Maths</th>\n",
       "      <td>9</td>\n",
       "      <td>96.0</td>\n",
       "      <td>95</td>\n",
       "      <td>94.0</td>\n",
       "      <td>93</td>\n",
       "    </tr>\n",
       "    <tr>\n",
       "      <th>Bio</th>\n",
       "      <td>96</td>\n",
       "      <td>95.0</td>\n",
       "      <td>94</td>\n",
       "      <td>93.0</td>\n",
       "      <td>94</td>\n",
       "    </tr>\n",
       "    <tr>\n",
       "      <th>IP</th>\n",
       "      <td>0</td>\n",
       "      <td>0.0</td>\n",
       "      <td>0</td>\n",
       "      <td>0.0</td>\n",
       "      <td>0</td>\n",
       "    </tr>\n",
       "  </tbody>\n",
       "</table>\n",
       "</div>"
      ],
      "text/plain": [
       "       Purvesh  Spandan  Vinit   Ved  Prayag\n",
       "Phy         99     98.0     97  96.0      91\n",
       "Chem        49     48.5     48  47.5      46\n",
       "Maths        9     96.0     95  94.0      93\n",
       "Bio         96     95.0     94  93.0      94\n",
       "IP           0      0.0      0   0.0       0"
      ]
     },
     "execution_count": 32,
     "metadata": {},
     "output_type": "execute_result"
    }
   ],
   "source": [
    "m.loc[:]"
   ]
  },
  {
   "cell_type": "code",
   "execution_count": 33,
   "id": "93e0f502",
   "metadata": {},
   "outputs": [],
   "source": [
    "#Deleting a column or row from Dataframe.\n",
    "n=m.drop(['IP'],axis=0)"
   ]
  },
  {
   "cell_type": "code",
   "execution_count": 34,
   "id": "ff26fb04",
   "metadata": {},
   "outputs": [
    {
     "name": "stdout",
     "output_type": "stream",
     "text": [
      "       Purvesh  Spandan  Vinit   Ved  Prayag\n",
      "Phy         99     98.0     97  96.0      91\n",
      "Chem        49     48.5     48  47.5      46\n",
      "Maths        9     96.0     95  94.0      93\n",
      "Bio         96     95.0     94  93.0      94\n"
     ]
    }
   ],
   "source": [
    "print(n)"
   ]
  },
  {
   "cell_type": "code",
   "execution_count": 35,
   "id": "364ac75d",
   "metadata": {},
   "outputs": [],
   "source": [
    "n=m.drop(['Ved'],axis=1)"
   ]
  },
  {
   "cell_type": "code",
   "execution_count": 36,
   "id": "203ce593",
   "metadata": {},
   "outputs": [
    {
     "name": "stdout",
     "output_type": "stream",
     "text": [
      "       Purvesh  Spandan  Vinit  Prayag\n",
      "Phy         99     98.0     97      91\n",
      "Chem        49     48.5     48      46\n",
      "Maths        9     96.0     95      93\n",
      "Bio         96     95.0     94      94\n",
      "IP           0      0.0      0       0\n"
     ]
    }
   ],
   "source": [
    "print(n)"
   ]
  },
  {
   "cell_type": "code",
   "execution_count": 37,
   "id": "cf9496d6",
   "metadata": {},
   "outputs": [
    {
     "name": "stdout",
     "output_type": "stream",
     "text": [
      "       Purvesh  Spandan   Ved  Prayag\n",
      "Phy         99     98.0  96.0      91\n",
      "Chem        49     48.5  47.5      46\n",
      "Maths        9     96.0  94.0      93\n",
      "Bio         96     95.0  93.0      94\n",
      "IP           0      0.0   0.0       0\n"
     ]
    }
   ],
   "source": [
    "n=m.drop(['Vinit'],axis=1)\n",
    "print(n)"
   ]
  },
  {
   "cell_type": "code",
   "execution_count": 38,
   "id": "92a72493",
   "metadata": {},
   "outputs": [
    {
     "name": "stdout",
     "output_type": "stream",
     "text": [
      "       Vinit   Ved  Prayag\n",
      "Phy       97  96.0      91\n",
      "Chem      48  47.5      46\n",
      "Maths     95  94.0      93\n",
      "Bio       94  93.0      94\n",
      "IP         0   0.0       0\n"
     ]
    }
   ],
   "source": [
    "n=m.drop(['Spandan','Purvesh'],axis=1)\n",
    "print(n)"
   ]
  },
  {
   "cell_type": "code",
   "execution_count": 39,
   "id": "68a158b9",
   "metadata": {},
   "outputs": [],
   "source": [
    "#renaming a row and a column."
   ]
  },
  {
   "cell_type": "code",
   "execution_count": 40,
   "id": "bc1d3574",
   "metadata": {},
   "outputs": [
    {
     "name": "stdout",
     "output_type": "stream",
     "text": [
      "       Purvesh  Spandan  Vinit   Ved  Prayag\n",
      "Phy         99     98.0     97  96.0      91\n",
      "Music       49     48.5     48  47.5      46\n",
      "Maths        9     96.0     95  94.0      93\n",
      "Bio         96     95.0     94  93.0      94\n",
      "Games        0      0.0      0   0.0       0\n"
     ]
    }
   ],
   "source": [
    "n=m.rename({'Chem':'Music','IP':'Games'},axis=0)\n",
    "print(n)"
   ]
  },
  {
   "cell_type": "code",
   "execution_count": 41,
   "id": "b5165f50",
   "metadata": {},
   "outputs": [
    {
     "name": "stdout",
     "output_type": "stream",
     "text": [
      "       Purvesh  Spandan  Vinit   Ved  Prayag\n",
      "Phy         99     98.0     97  96.0      91\n",
      "Chem        49     48.5     48  47.5      46\n",
      "Maths        9     96.0     95  94.0      93\n",
      "Geo         96     95.0     94  93.0      94\n",
      "IP           0      0.0      0   0.0       0\n"
     ]
    }
   ],
   "source": [
    "# in axis can write --> 0 or 'index' (Both means the same)\n",
    "n=m.rename({'Bio':'Geo'},axis='index')\n",
    "print(n)"
   ]
  },
  {
   "cell_type": "code",
   "execution_count": 42,
   "id": "50b3d87d",
   "metadata": {},
   "outputs": [
    {
     "name": "stdout",
     "output_type": "stream",
     "text": [
      "       Purvesh  Spandan  Paulbaba   dev  Prayag\n",
      "Phy         99     98.0        97  96.0      91\n",
      "Chem        49     48.5        48  47.5      46\n",
      "Maths        9     96.0        95  94.0      93\n",
      "Bio         96     95.0        94  93.0      94\n",
      "IP           0      0.0         0   0.0       0\n"
     ]
    }
   ],
   "source": [
    "n=m.rename({'Vinit':'Paulbaba','Ved':'dev'},axis=1)\n",
    "print(n)"
   ]
  },
  {
   "cell_type": "code",
   "execution_count": 43,
   "id": "bd1b0ae2",
   "metadata": {},
   "outputs": [
    {
     "name": "stdout",
     "output_type": "stream",
     "text": [
      "       Purvesh  Spandan  Vinit   Ved  Prayag\n",
      "Phy         99     98.0     97  96.0      91\n",
      "Chem        49     48.5     48  47.5      46\n",
      "Maths        9     96.0     95  94.0      93\n",
      "Bio         96     95.0     94  93.0      94\n",
      "IP           0      0.0      0   0.0       0\n"
     ]
    }
   ],
   "source": [
    "# in axis can write --> 0 or 'index' (Both means the same)\n",
    "n=m.rename({'dev':'Ved'},axis='columns')\n",
    "print(n)"
   ]
  },
  {
   "cell_type": "code",
   "execution_count": 44,
   "id": "9a86c763",
   "metadata": {},
   "outputs": [],
   "source": [
    "#Accessing info from a DataFrame"
   ]
  },
  {
   "cell_type": "code",
   "execution_count": 45,
   "id": "50eaa5d6",
   "metadata": {},
   "outputs": [
    {
     "data": {
      "text/plain": [
       "Purvesh    49.0\n",
       "Spandan    48.5\n",
       "Vinit      48.0\n",
       "Ved        47.5\n",
       "Prayag     46.0\n",
       "Name: Chem, dtype: float64"
      ]
     },
     "execution_count": 45,
     "metadata": {},
     "output_type": "execute_result"
    }
   ],
   "source": [
    "m.loc['Chem']"
   ]
  },
  {
   "cell_type": "code",
   "execution_count": 46,
   "id": "273abf78",
   "metadata": {},
   "outputs": [
    {
     "data": {
      "text/html": [
       "<div>\n",
       "<style scoped>\n",
       "    .dataframe tbody tr th:only-of-type {\n",
       "        vertical-align: middle;\n",
       "    }\n",
       "\n",
       "    .dataframe tbody tr th {\n",
       "        vertical-align: top;\n",
       "    }\n",
       "\n",
       "    .dataframe thead th {\n",
       "        text-align: right;\n",
       "    }\n",
       "</style>\n",
       "<table border=\"1\" class=\"dataframe\">\n",
       "  <thead>\n",
       "    <tr style=\"text-align: right;\">\n",
       "      <th></th>\n",
       "      <th>Purvesh</th>\n",
       "      <th>Spandan</th>\n",
       "      <th>Vinit</th>\n",
       "      <th>Ved</th>\n",
       "      <th>Prayag</th>\n",
       "    </tr>\n",
       "  </thead>\n",
       "  <tbody>\n",
       "    <tr>\n",
       "      <th>Chem</th>\n",
       "      <td>49</td>\n",
       "      <td>48.5</td>\n",
       "      <td>48</td>\n",
       "      <td>47.5</td>\n",
       "      <td>46</td>\n",
       "    </tr>\n",
       "    <tr>\n",
       "      <th>Bio</th>\n",
       "      <td>96</td>\n",
       "      <td>95.0</td>\n",
       "      <td>94</td>\n",
       "      <td>93.0</td>\n",
       "      <td>94</td>\n",
       "    </tr>\n",
       "  </tbody>\n",
       "</table>\n",
       "</div>"
      ],
      "text/plain": [
       "      Purvesh  Spandan  Vinit   Ved  Prayag\n",
       "Chem       49     48.5     48  47.5      46\n",
       "Bio        96     95.0     94  93.0      94"
      ]
     },
     "execution_count": 46,
     "metadata": {},
     "output_type": "execute_result"
    }
   ],
   "source": [
    "m.loc[['Chem','Bio']]"
   ]
  },
  {
   "cell_type": "code",
   "execution_count": 47,
   "id": "0c489b8d",
   "metadata": {},
   "outputs": [
    {
     "data": {
      "text/html": [
       "<div>\n",
       "<style scoped>\n",
       "    .dataframe tbody tr th:only-of-type {\n",
       "        vertical-align: middle;\n",
       "    }\n",
       "\n",
       "    .dataframe tbody tr th {\n",
       "        vertical-align: top;\n",
       "    }\n",
       "\n",
       "    .dataframe thead th {\n",
       "        text-align: right;\n",
       "    }\n",
       "</style>\n",
       "<table border=\"1\" class=\"dataframe\">\n",
       "  <thead>\n",
       "    <tr style=\"text-align: right;\">\n",
       "      <th></th>\n",
       "      <th>Purvesh</th>\n",
       "      <th>Spandan</th>\n",
       "      <th>Vinit</th>\n",
       "      <th>Ved</th>\n",
       "      <th>Prayag</th>\n",
       "    </tr>\n",
       "  </thead>\n",
       "  <tbody>\n",
       "    <tr>\n",
       "      <th>Phy</th>\n",
       "      <td>99</td>\n",
       "      <td>98.0</td>\n",
       "      <td>97</td>\n",
       "      <td>96.0</td>\n",
       "      <td>91</td>\n",
       "    </tr>\n",
       "    <tr>\n",
       "      <th>Chem</th>\n",
       "      <td>49</td>\n",
       "      <td>48.5</td>\n",
       "      <td>48</td>\n",
       "      <td>47.5</td>\n",
       "      <td>46</td>\n",
       "    </tr>\n",
       "    <tr>\n",
       "      <th>Maths</th>\n",
       "      <td>9</td>\n",
       "      <td>96.0</td>\n",
       "      <td>95</td>\n",
       "      <td>94.0</td>\n",
       "      <td>93</td>\n",
       "    </tr>\n",
       "    <tr>\n",
       "      <th>Bio</th>\n",
       "      <td>96</td>\n",
       "      <td>95.0</td>\n",
       "      <td>94</td>\n",
       "      <td>93.0</td>\n",
       "      <td>94</td>\n",
       "    </tr>\n",
       "    <tr>\n",
       "      <th>IP</th>\n",
       "      <td>0</td>\n",
       "      <td>0.0</td>\n",
       "      <td>0</td>\n",
       "      <td>0.0</td>\n",
       "      <td>0</td>\n",
       "    </tr>\n",
       "  </tbody>\n",
       "</table>\n",
       "</div>"
      ],
      "text/plain": [
       "       Purvesh  Spandan  Vinit   Ved  Prayag\n",
       "Phy         99     98.0     97  96.0      91\n",
       "Chem        49     48.5     48  47.5      46\n",
       "Maths        9     96.0     95  94.0      93\n",
       "Bio         96     95.0     94  93.0      94\n",
       "IP           0      0.0      0   0.0       0"
      ]
     },
     "execution_count": 47,
     "metadata": {},
     "output_type": "execute_result"
    }
   ],
   "source": [
    "m.loc[:]"
   ]
  },
  {
   "cell_type": "code",
   "execution_count": 48,
   "id": "a138c21c",
   "metadata": {},
   "outputs": [
    {
     "data": {
      "text/plain": [
       "Phy       True\n",
       "Chem     False\n",
       "Maths     True\n",
       "Bio       True\n",
       "IP       False\n",
       "Name: Vinit, dtype: bool"
      ]
     },
     "execution_count": 48,
     "metadata": {},
     "output_type": "execute_result"
    }
   ],
   "source": [
    "#Fail\n",
    "m['Vinit']>50"
   ]
  },
  {
   "cell_type": "code",
   "execution_count": 49,
   "id": "94f8a119",
   "metadata": {},
   "outputs": [
    {
     "data": {
      "text/plain": [
       "Purvesh    False\n",
       "Spandan    False\n",
       "Vinit      False\n",
       "Ved        False\n",
       "Prayag     False\n",
       "Name: Phy, dtype: bool"
      ]
     },
     "execution_count": 49,
     "metadata": {},
     "output_type": "execute_result"
    }
   ],
   "source": [
    "m.loc['Phy'] < 50"
   ]
  },
  {
   "cell_type": "code",
   "execution_count": 50,
   "id": "3d7f0e25",
   "metadata": {},
   "outputs": [
    {
     "data": {
      "text/html": [
       "<div>\n",
       "<style scoped>\n",
       "    .dataframe tbody tr th:only-of-type {\n",
       "        vertical-align: middle;\n",
       "    }\n",
       "\n",
       "    .dataframe tbody tr th {\n",
       "        vertical-align: top;\n",
       "    }\n",
       "\n",
       "    .dataframe thead th {\n",
       "        text-align: right;\n",
       "    }\n",
       "</style>\n",
       "<table border=\"1\" class=\"dataframe\">\n",
       "  <thead>\n",
       "    <tr style=\"text-align: right;\">\n",
       "      <th></th>\n",
       "      <th>Purvesh</th>\n",
       "      <th>Spandan</th>\n",
       "    </tr>\n",
       "  </thead>\n",
       "  <tbody>\n",
       "    <tr>\n",
       "      <th>Chem</th>\n",
       "      <td>49</td>\n",
       "      <td>48.5</td>\n",
       "    </tr>\n",
       "    <tr>\n",
       "      <th>Maths</th>\n",
       "      <td>9</td>\n",
       "      <td>96.0</td>\n",
       "    </tr>\n",
       "  </tbody>\n",
       "</table>\n",
       "</div>"
      ],
      "text/plain": [
       "       Purvesh  Spandan\n",
       "Chem        49     48.5\n",
       "Maths        9     96.0"
      ]
     },
     "execution_count": 50,
     "metadata": {},
     "output_type": "execute_result"
    }
   ],
   "source": [
    "m.loc['Chem':'Maths','Purvesh':'Spandan']"
   ]
  },
  {
   "cell_type": "code",
   "execution_count": 51,
   "id": "0ab889b2",
   "metadata": {},
   "outputs": [
    {
     "data": {
      "text/html": [
       "<div>\n",
       "<style scoped>\n",
       "    .dataframe tbody tr th:only-of-type {\n",
       "        vertical-align: middle;\n",
       "    }\n",
       "\n",
       "    .dataframe tbody tr th {\n",
       "        vertical-align: top;\n",
       "    }\n",
       "\n",
       "    .dataframe thead th {\n",
       "        text-align: right;\n",
       "    }\n",
       "</style>\n",
       "<table border=\"1\" class=\"dataframe\">\n",
       "  <thead>\n",
       "    <tr style=\"text-align: right;\">\n",
       "      <th></th>\n",
       "      <th>Purvesh</th>\n",
       "      <th>Spandan</th>\n",
       "    </tr>\n",
       "  </thead>\n",
       "  <tbody>\n",
       "    <tr>\n",
       "      <th>Chem</th>\n",
       "      <td>49</td>\n",
       "      <td>48.5</td>\n",
       "    </tr>\n",
       "    <tr>\n",
       "      <th>Maths</th>\n",
       "      <td>9</td>\n",
       "      <td>96.0</td>\n",
       "    </tr>\n",
       "  </tbody>\n",
       "</table>\n",
       "</div>"
      ],
      "text/plain": [
       "       Purvesh  Spandan\n",
       "Chem        49     48.5\n",
       "Maths        9     96.0"
      ]
     },
     "execution_count": 51,
     "metadata": {},
     "output_type": "execute_result"
    }
   ],
   "source": [
    "m.loc[['Chem','Maths'],['Purvesh','Spandan']]"
   ]
  },
  {
   "cell_type": "code",
   "execution_count": 52,
   "id": "c9e05e69",
   "metadata": {},
   "outputs": [
    {
     "data": {
      "text/html": [
       "<div>\n",
       "<style scoped>\n",
       "    .dataframe tbody tr th:only-of-type {\n",
       "        vertical-align: middle;\n",
       "    }\n",
       "\n",
       "    .dataframe tbody tr th {\n",
       "        vertical-align: top;\n",
       "    }\n",
       "\n",
       "    .dataframe thead th {\n",
       "        text-align: right;\n",
       "    }\n",
       "</style>\n",
       "<table border=\"1\" class=\"dataframe\">\n",
       "  <thead>\n",
       "    <tr style=\"text-align: right;\">\n",
       "      <th></th>\n",
       "      <th>Purvesh</th>\n",
       "      <th>Spandan</th>\n",
       "      <th>Vinit</th>\n",
       "      <th>Ved</th>\n",
       "      <th>Prayag</th>\n",
       "    </tr>\n",
       "  </thead>\n",
       "  <tbody>\n",
       "    <tr>\n",
       "      <th>Maths</th>\n",
       "      <td>9</td>\n",
       "      <td>96.0</td>\n",
       "      <td>95</td>\n",
       "      <td>94.0</td>\n",
       "      <td>93</td>\n",
       "    </tr>\n",
       "    <tr>\n",
       "      <th>IP</th>\n",
       "      <td>0</td>\n",
       "      <td>0.0</td>\n",
       "      <td>0</td>\n",
       "      <td>0.0</td>\n",
       "      <td>0</td>\n",
       "    </tr>\n",
       "  </tbody>\n",
       "</table>\n",
       "</div>"
      ],
      "text/plain": [
       "       Purvesh  Spandan  Vinit   Ved  Prayag\n",
       "Maths        9     96.0     95  94.0      93\n",
       "IP           0      0.0      0   0.0       0"
      ]
     },
     "execution_count": 52,
     "metadata": {},
     "output_type": "execute_result"
    }
   ],
   "source": [
    "m.loc[[False,False,True,False,True]]"
   ]
  },
  {
   "cell_type": "code",
   "execution_count": 53,
   "id": "cbe3598a",
   "metadata": {},
   "outputs": [
    {
     "data": {
      "text/html": [
       "<div>\n",
       "<style scoped>\n",
       "    .dataframe tbody tr th:only-of-type {\n",
       "        vertical-align: middle;\n",
       "    }\n",
       "\n",
       "    .dataframe tbody tr th {\n",
       "        vertical-align: top;\n",
       "    }\n",
       "\n",
       "    .dataframe thead th {\n",
       "        text-align: right;\n",
       "    }\n",
       "</style>\n",
       "<table border=\"1\" class=\"dataframe\">\n",
       "  <thead>\n",
       "    <tr style=\"text-align: right;\">\n",
       "      <th></th>\n",
       "      <th>Purvesh</th>\n",
       "      <th>Spandan</th>\n",
       "      <th>Vinit</th>\n",
       "      <th>Ved</th>\n",
       "      <th>Prayag</th>\n",
       "    </tr>\n",
       "  </thead>\n",
       "  <tbody>\n",
       "    <tr>\n",
       "      <th>Phy</th>\n",
       "      <td>99</td>\n",
       "      <td>98.0</td>\n",
       "      <td>97</td>\n",
       "      <td>96.0</td>\n",
       "      <td>91</td>\n",
       "    </tr>\n",
       "    <tr>\n",
       "      <th>Chem</th>\n",
       "      <td>49</td>\n",
       "      <td>48.5</td>\n",
       "      <td>48</td>\n",
       "      <td>47.5</td>\n",
       "      <td>46</td>\n",
       "    </tr>\n",
       "    <tr>\n",
       "      <th>Maths</th>\n",
       "      <td>9</td>\n",
       "      <td>96.0</td>\n",
       "      <td>95</td>\n",
       "      <td>94.0</td>\n",
       "      <td>93</td>\n",
       "    </tr>\n",
       "    <tr>\n",
       "      <th>Bio</th>\n",
       "      <td>96</td>\n",
       "      <td>95.0</td>\n",
       "      <td>94</td>\n",
       "      <td>93.0</td>\n",
       "      <td>94</td>\n",
       "    </tr>\n",
       "    <tr>\n",
       "      <th>IP</th>\n",
       "      <td>0</td>\n",
       "      <td>0.0</td>\n",
       "      <td>0</td>\n",
       "      <td>0.0</td>\n",
       "      <td>0</td>\n",
       "    </tr>\n",
       "  </tbody>\n",
       "</table>\n",
       "</div>"
      ],
      "text/plain": [
       "       Purvesh  Spandan  Vinit   Ved  Prayag\n",
       "Phy         99     98.0     97  96.0      91\n",
       "Chem        49     48.5     48  47.5      46\n",
       "Maths        9     96.0     95  94.0      93\n",
       "Bio         96     95.0     94  93.0      94\n",
       "IP           0      0.0      0   0.0       0"
      ]
     },
     "execution_count": 53,
     "metadata": {},
     "output_type": "execute_result"
    }
   ],
   "source": [
    "m.loc[:]"
   ]
  },
  {
   "cell_type": "code",
   "execution_count": 54,
   "id": "3b81d0df",
   "metadata": {},
   "outputs": [],
   "source": [
    "n1=pd.DataFrame([ [10,20,30],[40,50] ],columns=['C1','C2','C3'])\n",
    "n2=pd.DataFrame([ [60,70,100],[80] ],columns=['C4','C5','C1'])"
   ]
  },
  {
   "cell_type": "code",
   "execution_count": 55,
   "id": "5cdc344e",
   "metadata": {},
   "outputs": [
    {
     "name": "stdout",
     "output_type": "stream",
     "text": [
      "   C1  C2    C3\n",
      "0  10  20  30.0\n",
      "1  40  50   NaN\n"
     ]
    }
   ],
   "source": [
    "print(n1)"
   ]
  },
  {
   "cell_type": "code",
   "execution_count": 56,
   "id": "2c4a8d8a",
   "metadata": {},
   "outputs": [
    {
     "name": "stdout",
     "output_type": "stream",
     "text": [
      "   C4    C5     C1\n",
      "0  60  70.0  100.0\n",
      "1  80   NaN    NaN\n"
     ]
    }
   ],
   "source": [
    "print(n2)"
   ]
  },
  {
   "cell_type": "code",
   "execution_count": 57,
   "id": "4881bcff",
   "metadata": {},
   "outputs": [
    {
     "name": "stderr",
     "output_type": "stream",
     "text": [
      "C:\\Users\\user\\AppData\\Local\\Temp\\ipykernel_28096\\2340560156.py:1: FutureWarning: The frame.append method is deprecated and will be removed from pandas in a future version. Use pandas.concat instead.\n",
      "  n3= n1.append(n2)\n"
     ]
    }
   ],
   "source": [
    "n3= n1.append(n2)"
   ]
  },
  {
   "cell_type": "code",
   "execution_count": 58,
   "id": "196699e3",
   "metadata": {},
   "outputs": [
    {
     "name": "stdout",
     "output_type": "stream",
     "text": [
      "      C1    C2    C3    C4    C5\n",
      "0   10.0  20.0  30.0   NaN   NaN\n",
      "1   40.0  50.0   NaN   NaN   NaN\n",
      "0  100.0   NaN   NaN  60.0  70.0\n",
      "1    NaN   NaN   NaN  80.0   NaN\n"
     ]
    }
   ],
   "source": [
    "print(n3)"
   ]
  },
  {
   "cell_type": "code",
   "execution_count": 59,
   "id": "257093a6",
   "metadata": {},
   "outputs": [],
   "source": [
    "#Sorting a DataFrame ------------------------?"
   ]
  },
  {
   "cell_type": "code",
   "execution_count": 60,
   "id": "83899ac2",
   "metadata": {},
   "outputs": [
    {
     "name": "stderr",
     "output_type": "stream",
     "text": [
      "C:\\Users\\user\\AppData\\Local\\Temp\\ipykernel_28096\\1095090459.py:1: FutureWarning: The frame.append method is deprecated and will be removed from pandas in a future version. Use pandas.concat instead.\n",
      "  n3= n1.append(n2,sort='False')\n",
      "C:\\Users\\user\\AppData\\Local\\Temp\\ipykernel_28096\\1095090459.py:1: FutureWarning: Passing non boolean values for sort is deprecated and will error in a future version!\n",
      "  n3= n1.append(n2,sort='False')\n"
     ]
    }
   ],
   "source": [
    "n3= n1.append(n2,sort='False')"
   ]
  },
  {
   "cell_type": "code",
   "execution_count": 61,
   "id": "f4cece8c",
   "metadata": {},
   "outputs": [
    {
     "name": "stdout",
     "output_type": "stream",
     "text": [
      "      C1    C2    C3    C4    C5\n",
      "0   10.0  20.0  30.0   NaN   NaN\n",
      "1   40.0  50.0   NaN   NaN   NaN\n",
      "0  100.0   NaN   NaN  60.0  70.0\n",
      "1    NaN   NaN   NaN  80.0   NaN\n"
     ]
    }
   ],
   "source": [
    "print(n3)"
   ]
  },
  {
   "cell_type": "code",
   "execution_count": 62,
   "id": "76544ad3",
   "metadata": {},
   "outputs": [],
   "source": [
    "#Attitudes of a DataFrame"
   ]
  },
  {
   "cell_type": "code",
   "execution_count": 63,
   "id": "f629dba1",
   "metadata": {},
   "outputs": [],
   "source": [
    "o={\n",
    "    'Purvesh':pd.Series([99,98,97,96],index=['Phy','Chem','Maths','Bio']),\n",
    "    'Spandan':pd.Series([98.22,97,96,95],index=['Phy','Chem','Maths','Bio']),\n",
    "    'Vinit':pd.Series([97,96,95,94],index=['Phy','Chem','Maths','Bio']),\n",
    "    'Ved':pd.Series([96,95,94,93],index=['Phy','Chem','Maths','Bio'])\n",
    "}"
   ]
  },
  {
   "cell_type": "code",
   "execution_count": 64,
   "id": "ceb6b24e",
   "metadata": {},
   "outputs": [],
   "source": [
    "p=pd.DataFrame(o)"
   ]
  },
  {
   "cell_type": "code",
   "execution_count": 65,
   "id": "62e2149d",
   "metadata": {},
   "outputs": [
    {
     "name": "stdout",
     "output_type": "stream",
     "text": [
      "       Purvesh  Spandan  Vinit  Ved\n",
      "Phy         99    98.22     97   96\n",
      "Chem        98    97.00     96   95\n",
      "Maths       97    96.00     95   94\n",
      "Bio         96    95.00     94   93\n"
     ]
    }
   ],
   "source": [
    "print(p)"
   ]
  },
  {
   "cell_type": "code",
   "execution_count": 66,
   "id": "2034fa21",
   "metadata": {},
   "outputs": [
    {
     "name": "stdout",
     "output_type": "stream",
     "text": [
      "Index(['Phy', 'Chem', 'Maths', 'Bio'], dtype='object')\n"
     ]
    }
   ],
   "source": [
    "print(p.index)"
   ]
  },
  {
   "cell_type": "code",
   "execution_count": 67,
   "id": "b1974480",
   "metadata": {},
   "outputs": [
    {
     "name": "stdout",
     "output_type": "stream",
     "text": [
      "Index(['Purvesh', 'Spandan', 'Vinit', 'Ved'], dtype='object')\n"
     ]
    }
   ],
   "source": [
    "print(p.columns)"
   ]
  },
  {
   "cell_type": "code",
   "execution_count": 68,
   "id": "de946488",
   "metadata": {},
   "outputs": [
    {
     "name": "stdout",
     "output_type": "stream",
     "text": [
      "Index(['Purvesh', 'Vinit', 'Ved'], dtype='object')\n"
     ]
    }
   ],
   "source": [
    "print(p.columns[[0,2,3]])"
   ]
  },
  {
   "cell_type": "code",
   "execution_count": 69,
   "id": "a015f888",
   "metadata": {},
   "outputs": [
    {
     "name": "stdout",
     "output_type": "stream",
     "text": [
      "Index(['Phy', 'Chem', 'Bio'], dtype='object')\n"
     ]
    }
   ],
   "source": [
    "print(p.index[[0,1,3]])"
   ]
  },
  {
   "cell_type": "code",
   "execution_count": 70,
   "id": "5eec1939",
   "metadata": {},
   "outputs": [
    {
     "name": "stdout",
     "output_type": "stream",
     "text": [
      "Purvesh      int64\n",
      "Spandan    float64\n",
      "Vinit        int64\n",
      "Ved          int64\n",
      "dtype: object\n"
     ]
    }
   ],
   "source": [
    "print(p.dtypes)"
   ]
  },
  {
   "cell_type": "code",
   "execution_count": 71,
   "id": "fcb6e029",
   "metadata": {},
   "outputs": [],
   "source": [
    "#Shape"
   ]
  },
  {
   "cell_type": "code",
   "execution_count": 72,
   "id": "e3d1cf9d",
   "metadata": {},
   "outputs": [
    {
     "name": "stdout",
     "output_type": "stream",
     "text": [
      "(4, 4)\n"
     ]
    }
   ],
   "source": [
    "print(p.shape)"
   ]
  },
  {
   "cell_type": "code",
   "execution_count": 74,
   "id": "f50888a2",
   "metadata": {},
   "outputs": [
    {
     "name": "stdout",
     "output_type": "stream",
     "text": [
      "16\n"
     ]
    }
   ],
   "source": [
    "print(p.size)"
   ]
  },
  {
   "cell_type": "code",
   "execution_count": 76,
   "id": "c8da5332",
   "metadata": {},
   "outputs": [
    {
     "name": "stdout",
     "output_type": "stream",
     "text": [
      "[[99.   98.22 97.   96.  ]\n",
      " [98.   97.   96.   95.  ]\n",
      " [97.   96.   95.   94.  ]\n",
      " [96.   95.   94.   93.  ]]\n"
     ]
    }
   ],
   "source": [
    "print(p.values)"
   ]
  },
  {
   "cell_type": "code",
   "execution_count": 78,
   "id": "1669570e",
   "metadata": {},
   "outputs": [
    {
     "name": "stdout",
     "output_type": "stream",
     "text": [
      "           Phy  Chem  Maths   Bio\n",
      "Purvesh  99.00  98.0   97.0  96.0\n",
      "Spandan  98.22  97.0   96.0  95.0\n",
      "Vinit    97.00  96.0   95.0  94.0\n",
      "Ved      96.00  95.0   94.0  93.0\n"
     ]
    }
   ],
   "source": [
    "print(p.T)"
   ]
  },
  {
   "cell_type": "code",
   "execution_count": null,
   "id": "bbbc92df",
   "metadata": {},
   "outputs": [],
   "source": []
  }
 ],
 "metadata": {
  "kernelspec": {
   "display_name": "Python 3 (ipykernel)",
   "language": "python",
   "name": "python3"
  },
  "language_info": {
   "codemirror_mode": {
    "name": "ipython",
    "version": 3
   },
   "file_extension": ".py",
   "mimetype": "text/x-python",
   "name": "python",
   "nbconvert_exporter": "python",
   "pygments_lexer": "ipython3",
   "version": "3.9.12"
  }
 },
 "nbformat": 4,
 "nbformat_minor": 5
}
