{
 "cells": [
  {
   "cell_type": "code",
   "execution_count": 1,
   "id": "94b1a20c",
   "metadata": {},
   "outputs": [
    {
     "name": "stdout",
     "output_type": "stream",
     "text": [
      "0\n",
      "1\n",
      "2\n",
      "3\n",
      "4\n",
      "5\n",
      "6\n",
      "7\n",
      "8\n"
     ]
    }
   ],
   "source": [
    "# Range function\n",
    "a = range(9)\n",
    "\n",
    "for i in a:\n",
    "    print(i)"
   ]
  },
  {
   "cell_type": "code",
   "execution_count": 2,
   "id": "949fab29",
   "metadata": {},
   "outputs": [
    {
     "name": "stdout",
     "output_type": "stream",
     "text": [
      "3\n",
      "4\n",
      "5\n",
      "6\n",
      "7\n",
      "8\n"
     ]
    }
   ],
   "source": [
    "b = range(3, 9)\n",
    "for i in b:\n",
    "    print(i)\n"
   ]
  },
  {
   "cell_type": "code",
   "execution_count": 3,
   "id": "a58e8b58",
   "metadata": {},
   "outputs": [
    {
     "name": "stdout",
     "output_type": "stream",
     "text": [
      "1\n",
      "6\n",
      "11\n",
      "16\n",
      "21\n",
      "26\n",
      "31\n",
      "36\n",
      "41\n",
      "46\n"
     ]
    }
   ],
   "source": [
    "c = range(1, 51, 5)\n",
    "\n",
    "for i in c:\n",
    "    print(i)"
   ]
  },
  {
   "cell_type": "code",
   "execution_count": 4,
   "id": "1f87eaf0",
   "metadata": {},
   "outputs": [
    {
     "name": "stdout",
     "output_type": "stream",
     "text": [
      "10\n",
      "20\n"
     ]
    }
   ],
   "source": [
    "a = [1, 2, 3, 4, 5, 6, 7, 8, 9, 10]\n",
    "b = \"India is my country.\"\n",
    "print(len(a))\n",
    "print(len(b))"
   ]
  },
  {
   "cell_type": "code",
   "execution_count": 5,
   "id": "f674f02c",
   "metadata": {},
   "outputs": [],
   "source": [
    "# 1. LOOPS\n",
    "# a) for\n",
    "# b) i. if ... else\n",
    "#    ii. if...elif...else\n",
    "# c) while loop\n"
   ]
  },
  {
   "cell_type": "code",
   "execution_count": 10,
   "id": "d8f09d28",
   "metadata": {},
   "outputs": [],
   "source": [
    "# a) for (==, !=)\n",
    "a = [1, 2, 3, 4, 5, 6, 7, 8, 9, 10, -1, -2, -57, 0]\n"
   ]
  },
  {
   "cell_type": "code",
   "execution_count": 11,
   "id": "6d71bf9c",
   "metadata": {},
   "outputs": [
    {
     "name": "stdout",
     "output_type": "stream",
     "text": [
      "2 is an even number.\n",
      "4 is an even number.\n",
      "6 is an even number.\n",
      "8 is an even number.\n",
      "10 is an even number.\n",
      "-2 is an even number.\n",
      "0 is an even number.\n"
     ]
    }
   ],
   "source": [
    "for n in a:\n",
    "    if (n%2)== 0:\n",
    "        print(n, \"is an even number.\")"
   ]
  },
  {
   "cell_type": "code",
   "execution_count": 12,
   "id": "2397f76b",
   "metadata": {},
   "outputs": [
    {
     "name": "stdout",
     "output_type": "stream",
     "text": [
      "1 is an odd number.\n",
      "3 is an odd number.\n",
      "5 is an odd number.\n",
      "7 is an odd number.\n",
      "9 is an odd number.\n",
      "-1 is an odd number.\n",
      "-57 is an odd number.\n"
     ]
    }
   ],
   "source": [
    "for n in a:\n",
    "    if (n%2)!= 0:\n",
    "        print(n, \"is an odd number.\")"
   ]
  },
  {
   "cell_type": "code",
   "execution_count": 14,
   "id": "12039c49",
   "metadata": {},
   "outputs": [
    {
     "name": "stdout",
     "output_type": "stream",
     "text": [
      "1 is a positive integer.\n",
      "2 is a positive integer.\n",
      "3 is a positive integer.\n",
      "4 is a positive integer.\n",
      "5 is a positive integer.\n",
      "6 is a positive integer.\n",
      "7 is a positive integer.\n",
      "8 is a positive integer.\n",
      "9 is a positive integer.\n",
      "10 is a positive integer.\n",
      "-1 is a negative integer.\n",
      "-2 is a negative integer.\n",
      "-57 is a negative integer.\n",
      "It is zero.\n"
     ]
    }
   ],
   "source": [
    "for n in a:\n",
    "    if (n > 0):\n",
    "        print(n, \"is a positive integer.\")\n",
    "    elif (n < 0):\n",
    "        print(n, \"is a negative integer.\")\n",
    "    else:\n",
    "        print(\"It is zero.\")"
   ]
  },
  {
   "cell_type": "code",
   "execution_count": 17,
   "id": "8b02f104",
   "metadata": {},
   "outputs": [
    {
     "name": "stdout",
     "output_type": "stream",
     "text": [
      "0 is an even number.\n",
      "1 is an odd number.\n",
      "2 is an even number.\n",
      "3 is an odd number.\n",
      "4 is an even number.\n",
      "5 is an odd number.\n",
      "6 is an even number.\n",
      "7 is an odd number.\n",
      "8 is an even number.\n",
      "9 is an odd number.\n"
     ]
    }
   ],
   "source": [
    "# odd and even printed together...\n",
    "a = [0, 1, 2, 3, 4, 5, 6, 7, 8, 9]\n",
    "for n in a:\n",
    "    if (n%2) == 0:\n",
    "        print(n, \"is an even number.\")\n",
    "    else:\n",
    "        print(n, \"is an odd number.\")"
   ]
  },
  {
   "cell_type": "code",
   "execution_count": 19,
   "id": "34daf5a1",
   "metadata": {},
   "outputs": [
    {
     "name": "stdout",
     "output_type": "stream",
     "text": [
      "Enter your number: 37\n",
      "37 x 1 = 37\n",
      "37 x 2 = 74\n",
      "37 x 3 = 111\n",
      "37 x 4 = 148\n",
      "37 x 5 = 185\n",
      "37 x 6 = 222\n",
      "37 x 7 = 259\n",
      "37 x 8 = 296\n",
      "37 x 9 = 333\n",
      "37 x 10 = 370\n"
     ]
    }
   ],
   "source": [
    "# table\n",
    "a = int(input(\"Enter your number: \"))\n",
    "for i in range(1, 11):\n",
    "#    print(f\"{a}x{i} = {a*i}\")\n",
    "    print(a, \"x\", i, '=', a*i)"
   ]
  },
  {
   "cell_type": "code",
   "execution_count": null,
   "id": "a9b8302a",
   "metadata": {},
   "outputs": [],
   "source": []
  }
 ],
 "metadata": {
  "kernelspec": {
   "display_name": "Python 3 (ipykernel)",
   "language": "python",
   "name": "python3"
  },
  "language_info": {
   "codemirror_mode": {
    "name": "ipython",
    "version": 3
   },
   "file_extension": ".py",
   "mimetype": "text/x-python",
   "name": "python",
   "nbconvert_exporter": "python",
   "pygments_lexer": "ipython3",
   "version": "3.9.5"
  }
 },
 "nbformat": 4,
 "nbformat_minor": 5
}
