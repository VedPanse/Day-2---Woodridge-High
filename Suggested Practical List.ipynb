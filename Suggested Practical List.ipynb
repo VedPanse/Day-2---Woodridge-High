{
 "cells": [
  {
   "cell_type": "code",
   "execution_count": 14,
   "id": "c723eac8",
   "metadata": {},
   "outputs": [
    {
     "name": "stdout",
     "output_type": "stream",
     "text": [
      "1.1\n"
     ]
    }
   ],
   "source": [
    "# 1. To find average and grade for given marks.\n",
    "mark_list = [10, 20, 30, 50]\n",
    "total = 100\n",
    "\n",
    "average = sum(mark_list)/total\n",
    "print(average)"
   ]
  },
  {
   "cell_type": "code",
   "execution_count": 15,
   "id": "5cbabb5d",
   "metadata": {},
   "outputs": [
    {
     "name": "stdout",
     "output_type": "stream",
     "text": [
      "18.0\n"
     ]
    }
   ],
   "source": [
    "# 2. To find sale price of an item with the given cost and discount (%)\n",
    "cost = 20\n",
    "discount_percent = 10\n",
    "\n",
    "sale_price = cost - (discount_percent/100*cost)\n",
    "print(sale_price)"
   ]
  },
  {
   "cell_type": "code",
   "execution_count": 44,
   "id": "ecf9c631",
   "metadata": {},
   "outputs": [
    {
     "name": "stdout",
     "output_type": "stream",
     "text": [
      "Following are the values of shapes:\n",
      "Triangle: 45\n",
      "Rectangle: 40\n",
      "Square: 16\n",
      "Circle: 75.43\n"
     ]
    }
   ],
   "source": [
    "# 3. To calculate perimeter/circumference and area \n",
    "# of shapes such as triangle, rectangle, square and circle.\n",
    "\n",
    "\n",
    "# Triangle\n",
    "side_list = [10, 20, 15]\n",
    "triangle = sum(side_list)\n",
    "\n",
    "# Rectangle\n",
    "length = 10\n",
    "breadth = 10\n",
    "rectangle = 2 * (length + breadth)\n",
    "\n",
    "# Square\n",
    "side = 4\n",
    "square = side**2\n",
    "\n",
    "# circle\n",
    "radius = 12\n",
    "circle = round(2*22/7*radius, 2)\n",
    "\n",
    "print(f\"Following are the values of shapes:\\nTriangle: \"\n",
    "      f\"{triangle}\\nRectangle: {rectangle}\\nSquare: {square}\\nCircle: {circle}\")"
   ]
  },
  {
   "cell_type": "code",
   "execution_count": 45,
   "id": "ee7381c4",
   "metadata": {},
   "outputs": [
    {
     "name": "stdout",
     "output_type": "stream",
     "text": [
      "The simple interest is 24.0 and compound interest is 72800.\n"
     ]
    }
   ],
   "source": [
    "# 4. To calculate Simple and Compound interest.\n",
    "\n",
    "# Simple Interest\n",
    "p = 100\n",
    "r = 8\n",
    "t = 3\n",
    "\n",
    "simple_interest = (p*r*t)/100\n",
    "\n",
    "\n",
    "# Compound Interest\n",
    "compound_interest = (p*(1 + r)**t) - p\n",
    "print(f\"The simple interest is {simple_interest} and compound interest is {compound_interest}.\")"
   ]
  },
  {
   "cell_type": "code",
   "execution_count": 18,
   "id": "ade4fedb",
   "metadata": {},
   "outputs": [
    {
     "name": "stdout",
     "output_type": "stream",
     "text": [
      "Loss of $90.\n"
     ]
    }
   ],
   "source": [
    "# 5. To calculate profit-loss for given cost and sale price\n",
    "\n",
    "cost = 100\n",
    "sale_price = 10\n",
    "\n",
    "if sale_price > cost:\n",
    "    print(f\"Profit of ${sale_price - cost}.\")\n",
    "elif sale_price < cost:\n",
    "    print(f\"Loss of ${cost - sale_price}.\")\n",
    "else:\n",
    "    print(\"No profit no loss\")\n"
   ]
  },
  {
   "cell_type": "code",
   "execution_count": 19,
   "id": "309abc32",
   "metadata": {},
   "outputs": [
    {
     "name": "stdout",
     "output_type": "stream",
     "text": [
      "800.0000020649398\n"
     ]
    }
   ],
   "source": [
    "# 6. To calculate EMI for amount, period and interest.\n",
    "\n",
    "p = 100\n",
    "r = 8\n",
    "t = 9\n",
    "emi = (p * r * ((1+r)**t)/((1+r)**t - 1))\n",
    "print(emi)"
   ]
  },
  {
   "cell_type": "code",
   "execution_count": 20,
   "id": "c78ed64a",
   "metadata": {},
   "outputs": [
    {
     "name": "stdout",
     "output_type": "stream",
     "text": [
      "The amount for gst is 24.0. You must pay 1224.0.\n"
     ]
    }
   ],
   "source": [
    "# 7. To calculate tax - GST/Income Tax\n",
    "\n",
    "def gst_cal(amount, percent):\n",
    "    return f\"The amount for gst is {(percent/100)*amount}. You must pay {amount+((percent/100)*amount)}.\"\n",
    "print(gst_cal(1200, 2))"
   ]
  },
  {
   "cell_type": "code",
   "execution_count": 21,
   "id": "84753d80",
   "metadata": {},
   "outputs": [
    {
     "name": "stdout",
     "output_type": "stream",
     "text": [
      "The minimum value is 1 and the maximum value is 1001\n"
     ]
    }
   ],
   "source": [
    "# 8. To find the largest and smallest numbers in a list.\n",
    "\n",
    "def largest_smallest(mylist):\n",
    "    mylist.sort()\n",
    "    return f\"The minimum value is {mylist[0]} and the maximum value is {mylist[-1]}\"\n",
    "\n",
    "print(largest_smallest([1, 4, 3, 5, 6, 8, 1001]))"
   ]
  },
  {
   "cell_type": "code",
   "execution_count": 22,
   "id": "807e9100",
   "metadata": {},
   "outputs": [
    {
     "name": "stdout",
     "output_type": "stream",
     "text": [
      "The minimum value is 4 and the maximum value is 1001\n"
     ]
    }
   ],
   "source": [
    "# 9. To find the third largest/smallest number in a list.\n",
    "\n",
    "def largest_smallest(mylist):\n",
    "    mylist.sort()\n",
    "    return f\"The minimum value is {mylist[2]} and the maximum value is {mylist[-1]}\"\n",
    "\n",
    "print(largest_smallest([1, 4, 3, 5, 6, 8, 1001]))"
   ]
  },
  {
   "cell_type": "code",
   "execution_count": 25,
   "id": "f368a6ba",
   "metadata": {},
   "outputs": [
    {
     "name": "stdout",
     "output_type": "stream",
     "text": [
      "338350\n"
     ]
    }
   ],
   "source": [
    "# 10. To find the sum of squares of the first 100 natural numbers.\n",
    "\n",
    "addition = 0\n",
    "\n",
    "for i in range(1, 101):\n",
    "    addition += i**2\n",
    "print(addition)"
   ]
  },
  {
   "cell_type": "code",
   "execution_count": 39,
   "id": "6de63adb",
   "metadata": {},
   "outputs": [
    {
     "name": "stdout",
     "output_type": "stream",
     "text": [
      "[1, 3, 9]\n"
     ]
    }
   ],
   "source": [
    "# 11. To print the first 'n' multiples of given number\n",
    "\n",
    "def multiples(n, number):\n",
    "    lst = []\n",
    "    multiples = []\n",
    "    for i in range(1, number+1):\n",
    "        lst.append(i)\n",
    "    for items in lst:\n",
    "        if number%items == 0:\n",
    "            multiples.append(items)\n",
    "\n",
    "    return multiples[:n]\n",
    "    \n",
    "print(multiples(3, 729))"
   ]
  },
  {
   "cell_type": "code",
   "execution_count": 40,
   "id": "8ca9963e",
   "metadata": {},
   "outputs": [],
   "source": [
    "# Create a dictionary to store names of states and their capitals.\n",
    "\n",
    "states_capitals = {\n",
    "    \"Andhra Pradesh\": \"Amravati\",\n",
    "    \"Arunachal Pradesh\": \"Itanagar\",\n",
    "    \"Assam\": \"Dispur\",\n",
    "    \"Bihar\": \"Patna\",\n",
    "    \"Chhattisgarh\": \"Raipur\",\n",
    "    \"Goa\": \"Panaji\",\n",
    "    \"Gujurat\": \"Gandhinagar\",\n",
    "    \"Haryana\": \"Chandigarh\",\n",
    "    \"Himachal Pradesh\": \"Shimla\",\n",
    "    \"Jharkhand\": \"Ranchi\",\n",
    "    \"Karnataka\": \"Bengaluru\",\n",
    "    \"Kerala\": \"Thiruvananthapuram\",\n",
    "    \"Madhya Pradesh\": \"Bhopal\",\n",
    "    \"Maharashtra\": \"Mumbai\",\n",
    "    \"Manipur\": \"Imphal\",\n",
    "    \"Meghalaya\": \"Shillong\",\n",
    "    \"Mizoram\": \"Aizawl\",\n",
    "    \"Nagaland\": \"Kohima\",\n",
    "    \"Odisha\": \"Bhubaneshwar\",\n",
    "    \"Punjab\": \"Chandigarh\",\n",
    "    \"Rajasthan\": \"Jaipur\",\n",
    "    \"Sikkim\": \"Gangtok\",\n",
    "    \"Tamil Nadu\": \"Chennai\",\n",
    "    \"Telangana\": \"Hyderabad\",\n",
    "    \"Tripura\": \"Agartala\",\n",
    "    \"Uttar Pradesh\": \"Lucknow\",\n",
    "    \"Uttarakhand\": \"Dehradun\",\n",
    "    \"West Bengal\": \"Kolkata\"\n",
    "}"
   ]
  },
  {
   "cell_type": "code",
   "execution_count": null,
   "id": "e03987b9",
   "metadata": {},
   "outputs": [],
   "source": []
  }
 ],
 "metadata": {
  "kernelspec": {
   "display_name": "Python 3 (ipykernel)",
   "language": "python",
   "name": "python3"
  },
  "language_info": {
   "codemirror_mode": {
    "name": "ipython",
    "version": 3
   },
   "file_extension": ".py",
   "mimetype": "text/x-python",
   "name": "python",
   "nbconvert_exporter": "python",
   "pygments_lexer": "ipython3",
   "version": "3.9.5"
  }
 },
 "nbformat": 4,
 "nbformat_minor": 5
}
