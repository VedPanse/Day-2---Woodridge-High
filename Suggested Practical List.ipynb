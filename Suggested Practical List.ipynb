{
 "cells": [
  {
   "cell_type": "code",
   "execution_count": 5,
   "id": "c723eac8",
   "metadata": {},
   "outputs": [
    {
     "name": "stdout",
     "output_type": "stream",
     "text": [
      "Grade A\n"
     ]
    }
   ],
   "source": [
    "# 1. To find average and grade for given marks.\n",
    "marks = 98\n",
    "total = 100\n",
    "percent = marks/total*100\n",
    "\n",
    "if percent >= 90:\n",
    "    print(\"Grade A\")\n",
    "elif percent >= 80 and percent <= 70:\n",
    "    print(\"Grade B\")\n",
    "elif percent >= 60 and percent >= 50:\n",
    "    print(\"Grade C\")\n",
    "elif percent >= 40 and percent >= 30:\n",
    "    print(\"Grade D\")"
   ]
  },
  {
   "cell_type": "code",
   "execution_count": 15,
   "id": "5cbabb5d",
   "metadata": {},
   "outputs": [
    {
     "name": "stdout",
     "output_type": "stream",
     "text": [
      "18.0\n"
     ]
    }
   ],
   "source": [
    "# 2. To find sale price of an item with the given cost and discount (%)\n",
    "cost = 20\n",
    "discount_percent = 10\n",
    "\n",
    "sale_price = cost - (discount_percent/100*cost)\n",
    "print(sale_price)"
   ]
  },
  {
   "cell_type": "code",
   "execution_count": 27,
   "id": "ecf9c631",
   "metadata": {},
   "outputs": [
    {
     "name": "stdout",
     "output_type": "stream",
     "text": [
      "Following are the values of shapes:\n",
      "Triangle: Invalid triangle credentials.\n",
      "Rectangle: 40\n",
      "Square: 16\n",
      "Circle: 75.43\n"
     ]
    }
   ],
   "source": [
    "# 3. To calculate perimeter/circumference and area \n",
    "# of shapes such as triangle, rectangle, square and circle.\n",
    "\n",
    "\n",
    "# Triangle\n",
    "a = 10\n",
    "b = 20\n",
    "c = 30\n",
    "\n",
    "if (a+b>c and b+c>a and a+c>b):\n",
    "    triangle = (a+b+c)\n",
    "else:\n",
    "    triangle = \"Invalid triangle credentials.\"\n",
    "\n",
    "# Rectangle\n",
    "length = 10\n",
    "breadth = 10\n",
    "rectangle = 2 * (length + breadth)\n",
    "\n",
    "# Square\n",
    "side = 4\n",
    "square = side**2\n",
    "\n",
    "# circle\n",
    "radius = 12\n",
    "circle = round(2*22/7*radius, 2)\n",
    "\n",
    "print(f\"Following are the values of shapes:\\nTriangle: \"\n",
    "      f\"{triangle}\\nRectangle: {rectangle}\\nSquare: {square}\\nCircle: {circle}\")"
   ]
  },
  {
   "cell_type": "code",
   "execution_count": 45,
   "id": "ee7381c4",
   "metadata": {},
   "outputs": [
    {
     "name": "stdout",
     "output_type": "stream",
     "text": [
      "The simple interest is 24.0 and compound interest is 72800.\n"
     ]
    }
   ],
   "source": [
    "# 4. To calculate Simple and Compound interest.\n",
    "\n",
    "# Simple Interest\n",
    "p = 100\n",
    "r = 8\n",
    "t = 3\n",
    "\n",
    "simple_interest = (p*r*t)/100\n",
    "\n",
    "\n",
    "# Compound Interest\n",
    "compound_interest = (p*(1 + r)**t) - p\n",
    "print(f\"The simple interest is {simple_interest} and compound interest is {compound_interest}.\")"
   ]
  },
  {
   "cell_type": "code",
   "execution_count": 26,
   "id": "ade4fedb",
   "metadata": {},
   "outputs": [
    {
     "name": "stdout",
     "output_type": "stream",
     "text": [
      "Cost price: 100\n",
      "Sale Price: 50\n",
      "Loss of $50.0.  Loss percentage: 100.0\n"
     ]
    }
   ],
   "source": [
    "# 5. To calculate profit-loss for given cost and sale price. Percentage also.\n",
    "\n",
    "cost = float(input(\"Cost price: \"))\n",
    "sale_price = float(input(\"Sale Price: \"))\n",
    "\n",
    "if sale_price > cost:\n",
    "    print(f\"Profit of ${sale_price - cost}. Profit percentage: {(sale_price-cost)/cost*100}\")\n",
    "elif sale_price < cost:\n",
    "    print(f\"Loss of ${cost - sale_price}.  Loss percentage: {(cost-sale_price)/sale_price*100}\")\n",
    "else:\n",
    "    print(\"No profit no loss\")\n"
   ]
  },
  {
   "cell_type": "code",
   "execution_count": null,
   "id": "309abc32",
   "metadata": {},
   "outputs": [],
   "source": []
  },
  {
   "cell_type": "code",
   "execution_count": 20,
   "id": "c78ed64a",
   "metadata": {},
   "outputs": [
    {
     "name": "stdout",
     "output_type": "stream",
     "text": [
      "The amount for gst is 24.0. You must pay 1224.0.\n"
     ]
    }
   ],
   "source": [
    "# 7. To calculate tax - GST/Income Tax\n",
    "\n",
    "def gst_cal(amount, percent):\n",
    "    return f\"The amount for gst is {(percent/100)*amount}. You must pay {amount+((percent/100)*amount)}.\"\n",
    "print(gst_cal(1200, 2))"
   ]
  },
  {
   "cell_type": "code",
   "execution_count": 21,
   "id": "84753d80",
   "metadata": {},
   "outputs": [
    {
     "name": "stdout",
     "output_type": "stream",
     "text": [
      "The minimum value is 1 and the maximum value is 1001\n"
     ]
    }
   ],
   "source": [
    "# 8. To find the largest and smallest numbers in a list.\n",
    "\n",
    "def largest_smallest(mylist):\n",
    "    mylist.sort()\n",
    "    return f\"The minimum value is {mylist[0]} and the maximum value is {mylist[-1]}\"\n",
    "\n",
    "print(largest_smallest([1, 4, 3, 5, 6, 8, 1001]))"
   ]
  },
  {
   "cell_type": "code",
   "execution_count": 22,
   "id": "807e9100",
   "metadata": {},
   "outputs": [
    {
     "name": "stdout",
     "output_type": "stream",
     "text": [
      "The minimum value is 4 and the maximum value is 1001\n"
     ]
    }
   ],
   "source": [
    "# 9. To find the third largest/smallest number in a list.\n",
    "\n",
    "def largest_smallest(mylist):\n",
    "    mylist.sort()\n",
    "    return f\"The minimum value is {mylist[2]} and the maximum value is {mylist[-1]}\"\n",
    "\n",
    "print(largest_smallest([1, 4, 3, 5, 6, 8, 1001]))"
   ]
  },
  {
   "cell_type": "code",
   "execution_count": 35,
   "id": "f368a6ba",
   "metadata": {},
   "outputs": [
    {
     "name": "stdout",
     "output_type": "stream",
     "text": [
      "1\n",
      "4\n",
      "9\n",
      "16\n",
      "25\n",
      "36\n",
      "49\n",
      "64\n",
      "81\n",
      "100\n",
      "121\n",
      "144\n",
      "169\n",
      "196\n",
      "225\n",
      "256\n",
      "289\n",
      "324\n",
      "361\n",
      "400\n",
      "2870\n"
     ]
    }
   ],
   "source": [
    "# 10. To find the sum of squares of the first 20 natural numbers.\n",
    "\n",
    "addition = 0\n",
    "mylist = []\n",
    "\n",
    "for i in range(1, 21):\n",
    "    addition += i**2\n",
    "    mylist.append(str(i**2))\n",
    "    \n",
    "for items in mylist:\n",
    "    print(items)\n",
    "\n",
    "print(addition)\n",
    "\n",
    "\n"
   ]
  },
  {
   "cell_type": "code",
   "execution_count": 38,
   "id": "6de63adb",
   "metadata": {},
   "outputs": [
    {
     "name": "stdout",
     "output_type": "stream",
     "text": [
      "Enter number: 12\n",
      "12x0 = 0\n",
      "12x1 = 12\n",
      "12x2 = 24\n",
      "12x3 = 36\n",
      "12x4 = 48\n",
      "12x5 = 60\n",
      "12x6 = 72\n",
      "12x7 = 84\n",
      "12x8 = 96\n",
      "12x9 = 108\n",
      "12x10 = 120\n",
      "12x11 = 132\n"
     ]
    }
   ],
   "source": [
    "# 11. To print the first 'n' multiples of given number\n",
    "\n",
    "number = int(input(\"Enter number: \"))\n",
    "\n",
    "for n in range(number):\n",
    "    print(f\"{number}x{n} = {n*number}\")"
   ]
  },
  {
   "cell_type": "code",
   "execution_count": 9,
   "id": "8ca9963e",
   "metadata": {},
   "outputs": [
    {
     "name": "stdout",
     "output_type": "stream",
     "text": [
      "Mumbai\n",
      "The capital of Sikkim is Gangtok.\n"
     ]
    }
   ],
   "source": [
    "# 12. Create a dictionary to store names of states and their capitals.\n",
    "\n",
    "states_capitals = {\n",
    "    \"Andhra Pradesh\": \"Amravati\",\n",
    "    \"Arunachal Pradesh\": \"Itanagar\",\n",
    "    \"Assam\": \"Dispur\",\n",
    "    \"Bihar\": \"Patna\",\n",
    "    \"Chhattisgarh\": \"Raipur\",\n",
    "    \"Goa\": \"Panaji\",\n",
    "    \"Gujurat\": \"Gandhinagar\",\n",
    "    \"Haryana\": \"Chandigarh\",\n",
    "    \"Himachal Pradesh\": \"Shimla\",\n",
    "    \"Jharkhand\": \"Ranchi\",\n",
    "    \"Karnataka\": \"Bengaluru\",\n",
    "    \"Kerala\": \"Thiruvananthapuram\",\n",
    "    \"Madhya Pradesh\": \"Bhopal\",\n",
    "    \"Maharashtra\": \"Mumbai\",\n",
    "    \"Manipur\": \"Imphal\",\n",
    "    \"Meghalaya\": \"Shillong\",\n",
    "    \"Mizoram\": \"Aizawl\",\n",
    "    \"Nagaland\": \"Kohima\",\n",
    "    \"Odisha\": \"Bhubaneshwar\",\n",
    "    \"Punjab\": \"Chandigarh\",\n",
    "    \"Rajasthan\": \"Jaipur\",\n",
    "    \"Sikkim\": \"Gangtok\",\n",
    "    \"Tamil Nadu\": \"Chennai\",\n",
    "    \"Telangana\": \"Hyderabad\",\n",
    "    \"Tripura\": \"Agartala\",\n",
    "    \"Uttar Pradesh\": \"Lucknow\",\n",
    "    \"Uttarakhand\": \"Dehradun\",\n",
    "    \"West Bengal\": \"Kolkata\"\n",
    "}\n",
    "\n",
    "print(states_capitals['Maharashtra'])\n",
    "print(f\"The capital of Sikkim is {states_capitals['Sikkim']}.\")"
   ]
  },
  {
   "cell_type": "code",
   "execution_count": 16,
   "id": "e03987b9",
   "metadata": {},
   "outputs": [
    {
     "name": "stdout",
     "output_type": "stream",
     "text": [
      "100\n",
      "1\n",
      "Ved has scored 1 mark(s) in English.\n",
      "Ved has scored 1 mark(s) in English.\n"
     ]
    }
   ],
   "source": [
    "# 13. Create a dictionary of students to store names and marks obtained in 5 subjects.\n",
    "\n",
    "marks = {\n",
    "    \"Xavier\": {\n",
    "        \"English\": 100,\n",
    "        \"Hindi\": 100,\n",
    "        \"Mathematics\": 100,\n",
    "        \"Science\": 100,\n",
    "        \"Social Studies\": 100\n",
    "    },\n",
    "    \"Ved\": {\n",
    "        \"English\": 1,\n",
    "        \"Hindi\": 1,\n",
    "        \"Mathematics\": 1,\n",
    "        \"Science\": 1,\n",
    "        \"Social Studies\": 1\n",
    "    }\n",
    "}\n",
    "\n",
    "print(marks[\"Xavier\"][\"English\"])\n",
    "print(marks[\"Ved\"][\"Mathematics\"])\n",
    "\n",
    "print(f\"Ved has scored {marks['Ved']['English']} mark(s) in English.\")\n",
    "\n",
    "# The above statement is an example of print formatting. It is an easier and simpler form of writing:\n",
    "print(\"Ved has scored\", marks[\"Ved\"][\"English\"], \"mark(s) in English.\")"
   ]
  },
  {
   "cell_type": "code",
   "execution_count": 2,
   "id": "88e0982f",
   "metadata": {},
   "outputs": [
    {
     "name": "stdout",
     "output_type": "stream",
     "text": [
      "Highest value: 2387941\n",
      "Lowest value: 65\n"
     ]
    }
   ],
   "source": [
    "# 14. To print the highest and lowest values in the dictionary.\n",
    "\n",
    "dict_of_numbers = {\n",
    "    \"randomnumber1\": 65,\n",
    "    \"randomNum2\": 2387941,\n",
    "    \"randomNum3\": 231,\n",
    "    \"randomNum4\": 123\n",
    "}\n",
    "\n",
    "mylist = []\n",
    "\n",
    "for num in dict_of_numbers.values():\n",
    "    mylist.append(num)\n",
    "\n",
    "mylist.sort()\n",
    "\n",
    "print(f\"Highest value: {mylist[-1]}\")\n",
    "print(f\"Lowest value: {mylist[0]}\")"
   ]
  },
  {
   "cell_type": "code",
   "execution_count": null,
   "id": "d2198fe7",
   "metadata": {},
   "outputs": [],
   "source": []
  }
 ],
 "metadata": {
  "kernelspec": {
   "display_name": "Python 3 (ipykernel)",
   "language": "python",
   "name": "python3"
  },
  "language_info": {
   "codemirror_mode": {
    "name": "ipython",
    "version": 3
   },
   "file_extension": ".py",
   "mimetype": "text/x-python",
   "name": "python",
   "nbconvert_exporter": "python",
   "pygments_lexer": "ipython3",
   "version": "3.9.5"
  }
 },
 "nbformat": 4,
 "nbformat_minor": 5
}
