{
 "cells": [
  {
   "cell_type": "code",
   "execution_count": 2,
   "id": "523316d1",
   "metadata": {},
   "outputs": [
    {
     "name": "stdout",
     "output_type": "stream",
     "text": [
      "Hello, World\n"
     ]
    }
   ],
   "source": [
    "# Prints statement to the console\n",
    "print(\"Hello, World\")"
   ]
  },
  {
   "cell_type": "code",
   "execution_count": 6,
   "id": "70509dd6",
   "metadata": {},
   "outputs": [],
   "source": [
    "# Variables\n",
    "\n",
    "age = 17\n",
    "# integer\n",
    "\n",
    "\n",
    "salary = 0.00\n",
    "# float (decimals are included)\n",
    "\n",
    "# String: words, phrase, used literally\n",
    "password = \"1spandan2\""
   ]
  },
  {
   "cell_type": "code",
   "execution_count": 9,
   "id": "5b1c851e",
   "metadata": {},
   "outputs": [
    {
     "name": "stdout",
     "output_type": "stream",
     "text": [
      "password\n"
     ]
    }
   ],
   "source": [
    "print(\"password\")\n",
    "print(password)"
   ]
  },
  {
   "cell_type": "markdown",
   "id": "7155cbe9",
   "metadata": {},
   "source": [
    "# Type\n"
   ]
  },
  {
   "cell_type": "code",
   "execution_count": 10,
   "id": "4ce94b10",
   "metadata": {},
   "outputs": [
    {
     "name": "stdout",
     "output_type": "stream",
     "text": [
      "<class 'float'>\n"
     ]
    }
   ],
   "source": [
    "print(type(salary))"
   ]
  },
  {
   "cell_type": "code",
   "execution_count": 11,
   "id": "264fd237",
   "metadata": {},
   "outputs": [
    {
     "name": "stdout",
     "output_type": "stream",
     "text": [
      "<class 'int'>\n"
     ]
    }
   ],
   "source": [
    "print(type(age))"
   ]
  },
  {
   "cell_type": "code",
   "execution_count": 12,
   "id": "905ff9a4",
   "metadata": {},
   "outputs": [
    {
     "name": "stdout",
     "output_type": "stream",
     "text": [
      "<class 'str'>\n"
     ]
    }
   ],
   "source": [
    "print(type(password))"
   ]
  },
  {
   "cell_type": "code",
   "execution_count": 15,
   "id": "4a451f97",
   "metadata": {},
   "outputs": [
    {
     "name": "stdout",
     "output_type": "stream",
     "text": [
      "<class 'str'>\n"
     ]
    }
   ],
   "source": [
    "print(type(\"age\"))"
   ]
  },
  {
   "cell_type": "markdown",
   "id": "621b2cdb",
   "metadata": {},
   "source": [
    "# Len (Length)"
   ]
  },
  {
   "cell_type": "code",
   "execution_count": 18,
   "id": "c5a08f39",
   "metadata": {},
   "outputs": [
    {
     "name": "stdout",
     "output_type": "stream",
     "text": [
      "9\n"
     ]
    }
   ],
   "source": [
    "# Prints number of characters\n",
    "\n",
    "# Valid only for lists, strings\n",
    "print(len(password))"
   ]
  },
  {
   "cell_type": "code",
   "execution_count": 20,
   "id": "c599c3f6",
   "metadata": {},
   "outputs": [
    {
     "name": "stdout",
     "output_type": "stream",
     "text": [
      "10\n"
     ]
    }
   ],
   "source": [
    "print(len(\"Ved Panse.\"))"
   ]
  },
  {
   "cell_type": "markdown",
   "id": "174abcea",
   "metadata": {},
   "source": [
    "# Lists"
   ]
  },
  {
   "cell_type": "code",
   "execution_count": 22,
   "id": "253898c9",
   "metadata": {},
   "outputs": [],
   "source": [
    "# Used to store multiple elements\n",
    "\n",
    "fruits = [1, \"String\", 1.5]"
   ]
  },
  {
   "cell_type": "code",
   "execution_count": 23,
   "id": "103608e7",
   "metadata": {},
   "outputs": [
    {
     "name": "stdout",
     "output_type": "stream",
     "text": [
      "[1, 'String', 1.5]\n"
     ]
    }
   ],
   "source": [
    "print(fruits)"
   ]
  },
  {
   "cell_type": "code",
   "execution_count": 2,
   "id": "42263cd6",
   "metadata": {},
   "outputs": [
    {
     "name": "stdout",
     "output_type": "stream",
     "text": [
      "Spandan\n"
     ]
    }
   ],
   "source": [
    "# Position starts from 0\n",
    "\n",
    "grocery_list = [\"Milk\", \"Eggs\", \"Mangoes\", \"Spandan\"]\n",
    "print(grocery_list[3])"
   ]
  },
  {
   "cell_type": "markdown",
   "id": "74fa8588",
   "metadata": {},
   "source": [
    "## Adding elements to a list"
   ]
  },
  {
   "cell_type": "code",
   "execution_count": 29,
   "id": "a7c590bc",
   "metadata": {},
   "outputs": [],
   "source": [
    "# Use append function\n",
    "# Append means 'add'\n",
    "\n",
    "# To add \"Yonit\" to grocery_list, use\n",
    "\n",
    "grocery_list.append(\"Yonit\")"
   ]
  },
  {
   "cell_type": "code",
   "execution_count": 30,
   "id": "13ff9d23",
   "metadata": {},
   "outputs": [
    {
     "name": "stdout",
     "output_type": "stream",
     "text": [
      "['Milk', 'Eggs', 'Mangoes', 'Spandan', 'Yonit']\n"
     ]
    }
   ],
   "source": [
    "print(grocery_list)"
   ]
  },
  {
   "cell_type": "markdown",
   "id": "e21f3073",
   "metadata": {},
   "source": [
    "## Removing elements from a list"
   ]
  },
  {
   "cell_type": "code",
   "execution_count": 31,
   "id": "18004ab0",
   "metadata": {},
   "outputs": [
    {
     "data": {
      "text/plain": [
       "'Spandan'"
      ]
     },
     "execution_count": 31,
     "metadata": {},
     "output_type": "execute_result"
    }
   ],
   "source": [
    "# Use pop or remove function\n",
    "\n",
    "#Pop method requires us to know index (position)\n",
    "\n",
    "# Remove Spandan from grocery_list; we know that index of Spandan is 3\n",
    "grocery_list.pop(3)"
   ]
  },
  {
   "cell_type": "code",
   "execution_count": 32,
   "id": "295de7e1",
   "metadata": {},
   "outputs": [
    {
     "name": "stdout",
     "output_type": "stream",
     "text": [
      "['Milk', 'Eggs', 'Mangoes', 'Yonit']\n"
     ]
    }
   ],
   "source": [
    "print(grocery_list)"
   ]
  },
  {
   "cell_type": "code",
   "execution_count": 33,
   "id": "7d8f1eea",
   "metadata": {},
   "outputs": [],
   "source": [
    "# Remove function\n",
    "# We may or may not know the exact index of the item in list.\n",
    "\n",
    "# Remove milk from list,\n",
    "grocery_list.remove(\"Milk\")"
   ]
  },
  {
   "cell_type": "code",
   "execution_count": 34,
   "id": "f7c4b6a5",
   "metadata": {},
   "outputs": [
    {
     "name": "stdout",
     "output_type": "stream",
     "text": [
      "['Eggs', 'Mangoes', 'Yonit']\n"
     ]
    }
   ],
   "source": [
    "print(grocery_list)"
   ]
  },
  {
   "cell_type": "markdown",
   "id": "aace56ef",
   "metadata": {},
   "source": [
    "# Using operators"
   ]
  },
  {
   "cell_type": "raw",
   "id": "ce2a2020",
   "metadata": {},
   "source": [
    "Operators are of 5 types:-\n",
    "1. Arithmatic operators (addition, subtraction, multiplication etc.)\n",
    "2. Relational operators (check if one thing equals other etc.)\n",
    "3. Assignment operators (assigns new value to a variable)\n",
    "4. Logical operators (and, or)\n",
    "5. Membership operators"
   ]
  },
  {
   "cell_type": "markdown",
   "id": "152d5da1",
   "metadata": {},
   "source": [
    "## Arithmatic operators"
   ]
  },
  {
   "cell_type": "code",
   "execution_count": 35,
   "id": "d39589bf",
   "metadata": {},
   "outputs": [
    {
     "name": "stdout",
     "output_type": "stream",
     "text": [
      "15\n"
     ]
    }
   ],
   "source": [
    "# Addition\n",
    "number_1 = 5\n",
    "number_2 = 10\n",
    "\n",
    "print(number_1 + number_2)"
   ]
  },
  {
   "cell_type": "code",
   "execution_count": 36,
   "id": "2aec500f",
   "metadata": {},
   "outputs": [
    {
     "name": "stdout",
     "output_type": "stream",
     "text": [
      "-5\n"
     ]
    }
   ],
   "source": [
    "# Subtraction\n",
    "print(number_1 - number_2)"
   ]
  },
  {
   "cell_type": "code",
   "execution_count": 37,
   "id": "a0c02df2",
   "metadata": {},
   "outputs": [
    {
     "name": "stdout",
     "output_type": "stream",
     "text": [
      "50\n"
     ]
    }
   ],
   "source": [
    "# Multiplication\n",
    "print(number_1 * number_2)"
   ]
  },
  {
   "cell_type": "code",
   "execution_count": 38,
   "id": "ae1bcdaa",
   "metadata": {},
   "outputs": [
    {
     "name": "stdout",
     "output_type": "stream",
     "text": [
      "0.5\n"
     ]
    }
   ],
   "source": [
    "# Division\n",
    "print(number_1/number_2)"
   ]
  },
  {
   "cell_type": "code",
   "execution_count": 40,
   "id": "81a73897",
   "metadata": {},
   "outputs": [
    {
     "name": "stdout",
     "output_type": "stream",
     "text": [
      "0\n"
     ]
    }
   ],
   "source": [
    "# Floor division.\n",
    "# It gives the quotient of the operation.\n",
    "# It can also be called as greater integer function.\n",
    "print(number_1//number_2)"
   ]
  },
  {
   "cell_type": "code",
   "execution_count": 41,
   "id": "de27f6cc",
   "metadata": {},
   "outputs": [
    {
     "name": "stdout",
     "output_type": "stream",
     "text": [
      "5\n"
     ]
    }
   ],
   "source": [
    "# modulus\n",
    "# It gives the remainer of the operation.\n",
    "print(number_1 % number_2)"
   ]
  },
  {
   "cell_type": "markdown",
   "id": "982cc0f5",
   "metadata": {},
   "source": [
    "## Relational Operators"
   ]
  },
  {
   "cell_type": "code",
   "execution_count": 5,
   "id": "82ac8aea",
   "metadata": {},
   "outputs": [
    {
     "name": "stdout",
     "output_type": "stream",
     "text": [
      "True\n"
     ]
    }
   ],
   "source": [
    "# If one value is equal or not to other value\n",
    "# Prints true or false values.\n",
    "\n",
    "print(1 != 2)"
   ]
  },
  {
   "cell_type": "code",
   "execution_count": 7,
   "id": "7a08ebbc",
   "metadata": {},
   "outputs": [
    {
     "name": "stdout",
     "output_type": "stream",
     "text": [
      "True\n"
     ]
    }
   ],
   "source": [
    "print(3 == 3)"
   ]
  },
  {
   "cell_type": "code",
   "execution_count": 8,
   "id": "c8afeec3",
   "metadata": {},
   "outputs": [
    {
     "name": "stdout",
     "output_type": "stream",
     "text": [
      "True\n"
     ]
    }
   ],
   "source": [
    "print(5 > 3)"
   ]
  },
  {
   "cell_type": "code",
   "execution_count": 9,
   "id": "2ce4f8a5",
   "metadata": {},
   "outputs": [
    {
     "name": "stdout",
     "output_type": "stream",
     "text": [
      "False\n"
     ]
    }
   ],
   "source": [
    "print(100 < 99)"
   ]
  },
  {
   "cell_type": "markdown",
   "id": "c5abe466",
   "metadata": {},
   "source": [
    "## If, Elif, Else"
   ]
  },
  {
   "cell_type": "code",
   "execution_count": 11,
   "id": "0f35168f",
   "metadata": {},
   "outputs": [
    {
     "name": "stdout",
     "output_type": "stream",
     "text": [
      "Wrong password\n"
     ]
    }
   ],
   "source": [
    "# If, else\n",
    "\n",
    "password = \"VedPanse\"\n",
    "\n",
    "if password == \"1spandan2\":\n",
    "    print(\"Correct password\")\n",
    "else:\n",
    "    print(\"Wrong password\")"
   ]
  },
  {
   "cell_type": "code",
   "execution_count": 13,
   "id": "3f7de5fa",
   "metadata": {},
   "outputs": [
    {
     "name": "stdout",
     "output_type": "stream",
     "text": [
      "Paul baba Jai ram jai ram\n"
     ]
    }
   ],
   "source": [
    "# If, elif, else\n",
    "\n",
    "password = \"Yonit\"\n",
    "\n",
    "if password == \"1spandan2\":\n",
    "    print(\"Correct password\")\n",
    "elif password == 'Yonit':\n",
    "    print(\"Paul baba Jai ram jai ram\")\n",
    "else:\n",
    "    print(\"Wrong password\")"
   ]
  },
  {
   "cell_type": "code",
   "execution_count": 14,
   "id": "549077e1",
   "metadata": {},
   "outputs": [
    {
     "name": "stdout",
     "output_type": "stream",
     "text": [
      "A+\n"
     ]
    }
   ],
   "source": [
    "# Real-life application\n",
    "# 91-100% = A+\n",
    "# 85-90% = A\n",
    "# 81-85% = B\n",
    "\n",
    "percentage = 98\n",
    "\n",
    "if percentage > 100:\n",
    "    print(\"Nakli percentage.\")\n",
    "elif percentage > 91 and percentage < 100:\n",
    "    print(\"A+\")\n",
    "elif percentage > 85 and percentage < 90:\n",
    "    print(\"A\")\n",
    "else:\n",
    "    print(\"B\")"
   ]
  },
  {
   "cell_type": "markdown",
   "id": "37954bfc",
   "metadata": {},
   "source": [
    "## Logical operators\n"
   ]
  },
  {
   "cell_type": "code",
   "execution_count": 15,
   "id": "abab442e",
   "metadata": {},
   "outputs": [
    {
     "name": "stdout",
     "output_type": "stream",
     "text": [
      "True\n"
     ]
    }
   ],
   "source": [
    "# And, or\n",
    "# And: both conditions should be true\n",
    "# Or: Any one condition must be true\n",
    "\n",
    "print(1 == 2 or 3 == 3)"
   ]
  },
  {
   "cell_type": "code",
   "execution_count": 17,
   "id": "48c50b05",
   "metadata": {},
   "outputs": [
    {
     "name": "stdout",
     "output_type": "stream",
     "text": [
      "True\n"
     ]
    }
   ],
   "source": [
    "print(1 != 2 and 3 == 3)"
   ]
  },
  {
   "cell_type": "markdown",
   "id": "058bca7e",
   "metadata": {},
   "source": [
    "## Assignment operators"
   ]
  },
  {
   "cell_type": "code",
   "execution_count": 19,
   "id": "bcd310e2",
   "metadata": {},
   "outputs": [
    {
     "name": "stdout",
     "output_type": "stream",
     "text": [
      "2\n"
     ]
    }
   ],
   "source": [
    "# =, +=, -=, /=\n",
    "\n",
    "num = 1\n",
    "\n",
    "num = num + 1\n",
    "\n",
    "print(num)"
   ]
  },
  {
   "cell_type": "code",
   "execution_count": 20,
   "id": "76356328",
   "metadata": {},
   "outputs": [],
   "source": [
    "# The same problem is simplified by writing\n",
    "num += 1 # also written as num = num + 1"
   ]
  },
  {
   "cell_type": "code",
   "execution_count": 22,
   "id": "528bc628",
   "metadata": {},
   "outputs": [],
   "source": [
    "# For subtraction,\n",
    "num -= 1 # means num = num - 1"
   ]
  },
  {
   "cell_type": "code",
   "execution_count": 23,
   "id": "9c34199e",
   "metadata": {},
   "outputs": [],
   "source": [
    "# For multiplication,\n",
    "num *= 2 # means num = num * 2"
   ]
  },
  {
   "cell_type": "code",
   "execution_count": 25,
   "id": "0565f7af",
   "metadata": {},
   "outputs": [],
   "source": [
    "# For division,\n",
    "num /= 2 # means num = num / 2 "
   ]
  },
  {
   "cell_type": "markdown",
   "id": "a4938633",
   "metadata": {},
   "source": [
    "# Real life example of list"
   ]
  },
  {
   "cell_type": "code",
   "execution_count": 28,
   "id": "3c006e04",
   "metadata": {},
   "outputs": [
    {
     "name": "stdout",
     "output_type": "stream",
     "text": [
      "Chandan was ejected.\n",
      "4 remain.\n"
     ]
    }
   ],
   "source": [
    "amongUS_in_room = [\"Chandan\", \"Yonit\", \"Waves\", \"Purit\", \"Pansy\"]\n",
    "\n",
    "voted = \"Chandan\"\n",
    "\n",
    "# Print the voted name was ejected.\n",
    "print(voted + \" was ejected.\")\n",
    "\n",
    "# Remove the voted from the group\n",
    "amongUS_in_room.remove(voted)\n",
    "\n",
    "# Print how many players remain.\n",
    "print(str(len(amongUS_in_room)) + \" remain.\")"
   ]
  },
  {
   "cell_type": "code",
   "execution_count": 29,
   "id": "409e47e3",
   "metadata": {},
   "outputs": [
    {
     "name": "stdout",
     "output_type": "stream",
     "text": [
      "<class 'str'>\n"
     ]
    }
   ],
   "source": [
    "# str converts integers and floats to string\n",
    "print(type(str(1)))"
   ]
  },
  {
   "cell_type": "code",
   "execution_count": null,
   "id": "12288e1f",
   "metadata": {},
   "outputs": [],
   "source": []
  }
 ],
 "metadata": {
  "kernelspec": {
   "display_name": "Python 3 (ipykernel)",
   "language": "python",
   "name": "python3"
  },
  "language_info": {
   "codemirror_mode": {
    "name": "ipython",
    "version": 3
   },
   "file_extension": ".py",
   "mimetype": "text/x-python",
   "name": "python",
   "nbconvert_exporter": "python",
   "pygments_lexer": "ipython3",
   "version": "3.9.5"
  }
 },
 "nbformat": 4,
 "nbformat_minor": 5
}
