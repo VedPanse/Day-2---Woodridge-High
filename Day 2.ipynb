{
 "cells": [
  {
   "cell_type": "code",
   "execution_count": 1,
   "id": "35222c0c",
   "metadata": {},
   "outputs": [],
   "source": [
    "# Operators\n",
    "# 1. Arithmetic operators (+, -, /, *, %, //, **)\n",
    "# 2. Relational operators (==, !=, >, <)\n",
    "# 3. Assignment operators (=, +=, -=, *=, /=) ....\n",
    "# 4. Logical Operators (and, or, not)\n",
    "# 5. Membership operators (in, not in)\n",
    "\n"
   ]
  },
  {
   "cell_type": "code",
   "execution_count": 2,
   "id": "575e6e00",
   "metadata": {},
   "outputs": [],
   "source": [
    "a = 7\n",
    "b = 2"
   ]
  },
  {
   "cell_type": "code",
   "execution_count": 9,
   "id": "31a43594",
   "metadata": {},
   "outputs": [
    {
     "name": "stdout",
     "output_type": "stream",
     "text": [
      "9\n",
      "14\n",
      "5\n",
      "3.5\n",
      "3\n",
      "49\n",
      "1\n"
     ]
    }
   ],
   "source": [
    "# 1. Arithmetic Operators\n",
    "# +(addition)\n",
    "print(a + b)\n",
    "# * (Multiplication)\n",
    "print(a * b)\n",
    "# - (subtraction)\n",
    "print(a - b)\n",
    "# / - division\n",
    "print(a/b)\n",
    "# // - double division (floor)\n",
    "print(a//b)\n",
    "# ** - power\n",
    "print(a**b)\n",
    "# % - modulus\n",
    "print(a%b)"
   ]
  },
  {
   "cell_type": "code",
   "execution_count": 10,
   "id": "80cd8e63",
   "metadata": {},
   "outputs": [],
   "source": [
    "# 2. Relational operators (==, !=, >, <)\n",
    "a = 7\n",
    "b = 2"
   ]
  },
  {
   "cell_type": "code",
   "execution_count": 11,
   "id": "e56cf2fc",
   "metadata": {},
   "outputs": [
    {
     "name": "stdout",
     "output_type": "stream",
     "text": [
      "False\n"
     ]
    }
   ],
   "source": [
    "# == (equals to)\n",
    "print(a==b)"
   ]
  },
  {
   "cell_type": "code",
   "execution_count": 12,
   "id": "10587d82",
   "metadata": {},
   "outputs": [
    {
     "name": "stdout",
     "output_type": "stream",
     "text": [
      "True\n"
     ]
    }
   ],
   "source": [
    "# != (not equal to)\n",
    "print(a!=b)"
   ]
  },
  {
   "cell_type": "code",
   "execution_count": 13,
   "id": "4d42aacf",
   "metadata": {},
   "outputs": [
    {
     "name": "stdout",
     "output_type": "stream",
     "text": [
      "True\n"
     ]
    }
   ],
   "source": [
    "# > (greater than)\n",
    "print(a>b)"
   ]
  },
  {
   "cell_type": "code",
   "execution_count": 14,
   "id": "cf250d6d",
   "metadata": {},
   "outputs": [
    {
     "name": "stdout",
     "output_type": "stream",
     "text": [
      "False\n"
     ]
    }
   ],
   "source": [
    "# < (less than)\n",
    "print(a<b)"
   ]
  },
  {
   "cell_type": "code",
   "execution_count": 17,
   "id": "082e878f",
   "metadata": {},
   "outputs": [
    {
     "name": "stdout",
     "output_type": "stream",
     "text": [
      "True\n"
     ]
    }
   ],
   "source": [
    "print(a>b>1)"
   ]
  },
  {
   "cell_type": "code",
   "execution_count": 18,
   "id": "5ff3d4ec",
   "metadata": {},
   "outputs": [],
   "source": [
    "# 3. Assignment operators (=, +=, -=, /=, *=)\n",
    "a = 7\n",
    "b = 2"
   ]
  },
  {
   "cell_type": "code",
   "execution_count": 19,
   "id": "35ff6761",
   "metadata": {},
   "outputs": [
    {
     "name": "stdout",
     "output_type": "stream",
     "text": [
      "9\n",
      "2\n"
     ]
    }
   ],
   "source": [
    "# += (a = a + b)\n",
    "a += b\n",
    "print(a)\n",
    "print(b)"
   ]
  },
  {
   "cell_type": "code",
   "execution_count": 20,
   "id": "200ff43f",
   "metadata": {
    "scrolled": true
   },
   "outputs": [
    {
     "name": "stdout",
     "output_type": "stream",
     "text": [
      "7\n",
      "2\n"
     ]
    }
   ],
   "source": [
    "# -= (a = a - b)\n",
    "a -= b\n",
    "print(a)\n",
    "print(b)"
   ]
  },
  {
   "cell_type": "code",
   "execution_count": 21,
   "id": "3b3342a0",
   "metadata": {},
   "outputs": [
    {
     "name": "stdout",
     "output_type": "stream",
     "text": [
      "14\n",
      "2\n"
     ]
    }
   ],
   "source": [
    "# *= (a = a*b)\n",
    "a *= b\n",
    "print(a)\n",
    "print(b)"
   ]
  },
  {
   "cell_type": "code",
   "execution_count": 22,
   "id": "6ec33fbc",
   "metadata": {},
   "outputs": [
    {
     "name": "stdout",
     "output_type": "stream",
     "text": [
      "7.0\n",
      "2\n"
     ]
    }
   ],
   "source": [
    "# /= (a = a/b)\n",
    "a /= b\n",
    "print(a)\n",
    "print(b)"
   ]
  },
  {
   "cell_type": "code",
   "execution_count": 25,
   "id": "0816b34d",
   "metadata": {},
   "outputs": [],
   "source": [
    "# 4. Logical Operators (and, or, not)\n",
    "a = 10\n",
    "b = 15"
   ]
  },
  {
   "cell_type": "code",
   "execution_count": 27,
   "id": "8c26a907",
   "metadata": {
    "scrolled": false
   },
   "outputs": [
    {
     "name": "stdout",
     "output_type": "stream",
     "text": [
      "True\n"
     ]
    }
   ],
   "source": [
    "# logical and\n",
    "print((a == 10) and (b == 15))"
   ]
  },
  {
   "cell_type": "code",
   "execution_count": 29,
   "id": "fcba273f",
   "metadata": {},
   "outputs": [
    {
     "name": "stdout",
     "output_type": "stream",
     "text": [
      "False\n"
     ]
    }
   ],
   "source": [
    "# logical or\n",
    "print((a == 8) or (b == 12))"
   ]
  },
  {
   "cell_type": "code",
   "execution_count": 33,
   "id": "10fad6a6",
   "metadata": {},
   "outputs": [
    {
     "name": "stdout",
     "output_type": "stream",
     "text": [
      "False\n"
     ]
    }
   ],
   "source": [
    "# logical not\n",
    "print (not(a == 10))\n"
   ]
  },
  {
   "cell_type": "code",
   "execution_count": 1,
   "id": "1fe397ea",
   "metadata": {},
   "outputs": [],
   "source": [
    "# membership (in, not in)\n",
    "\n",
    "a = [1, 2, 3, 4, 5]\n"
   ]
  },
  {
   "cell_type": "code",
   "execution_count": 4,
   "id": "5b3b5530",
   "metadata": {},
   "outputs": [
    {
     "name": "stdout",
     "output_type": "stream",
     "text": [
      "True\n"
     ]
    }
   ],
   "source": [
    "# in\n",
    "print(4 in a)"
   ]
  },
  {
   "cell_type": "code",
   "execution_count": 6,
   "id": "936228a0",
   "metadata": {},
   "outputs": [
    {
     "name": "stdout",
     "output_type": "stream",
     "text": [
      "False\n"
     ]
    }
   ],
   "source": [
    "# not in\n",
    "print(2 not in a)"
   ]
  },
  {
   "cell_type": "code",
   "execution_count": null,
   "id": "ed55e16a",
   "metadata": {},
   "outputs": [],
   "source": []
  }
 ],
 "metadata": {
  "kernelspec": {
   "display_name": "Python 3 (ipykernel)",
   "language": "python",
   "name": "python3"
  },
  "language_info": {
   "codemirror_mode": {
    "name": "ipython",
    "version": 3
   },
   "file_extension": ".py",
   "mimetype": "text/x-python",
   "name": "python",
   "nbconvert_exporter": "python",
   "pygments_lexer": "ipython3",
   "version": "3.9.5"
  }
 },
 "nbformat": 4,
 "nbformat_minor": 5
}
