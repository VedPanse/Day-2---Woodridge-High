{
 "cells": [
  {
   "cell_type": "code",
   "execution_count": 34,
   "id": "c4823654",
   "metadata": {},
   "outputs": [
    {
     "name": "stdout",
     "output_type": "stream",
     "text": [
      "FizzBuzz\n",
      "Fizz\n",
      "Buzz\n"
     ]
    }
   ],
   "source": [
    "# IF ELSE\n",
    "\n",
    "# Example 1: FizzBuzz\n",
    "\n",
    "# For numbers between 1 and 100, if number is divisble by 3, print \"Fizz\".\n",
    "# If number is divisible by 5, print \"Buzz\".\n",
    "# If number is divisible by both, print \"FizzBuzz\".\n",
    "\n",
    "def fizzBuzz(n):\n",
    "    \n",
    "    if n % 3 == 0 and n % 5 == 0:\n",
    "        print(\"FizzBuzz\")\n",
    "    elif n % 3 == 0:\n",
    "        print(\"Fizz\")\n",
    "    elif n % 5 == 0:\n",
    "        print(\"Buzz\")\n",
    "    else:\n",
    "        pass\n",
    "        \n",
    "fizzBuzz(15)\n",
    "fizzBuzz(3)\n",
    "fizzBuzz(5)"
   ]
  },
  {
   "cell_type": "code",
   "execution_count": 58,
   "id": "957b9db9",
   "metadata": {},
   "outputs": [
    {
     "name": "stdout",
     "output_type": "stream",
     "text": [
      "1\n",
      "3\n",
      "5\n",
      "7\n",
      "9\n",
      "The sum of all odd number till 10 is 25.\n"
     ]
    }
   ],
   "source": [
    "# Example 2: Calculate the sum of all odd numbers in a given range.\n",
    "sum = 0\n",
    "n = 10\n",
    "\n",
    "for i in range(1, n):\n",
    "    if i % 2 != 0:\n",
    "        # It is odd\n",
    "        sum += i\n",
    "        print(i)\n",
    "    else:\n",
    "        pass\n",
    "        \n",
    "print(f\"The sum of all odd number till {n} is {sum}.\")"
   ]
  },
  {
   "cell_type": "code",
   "execution_count": 31,
   "id": "39798882",
   "metadata": {},
   "outputs": [
    {
     "name": "stdout",
     "output_type": "stream",
     "text": [
      "False\n"
     ]
    }
   ],
   "source": [
    "# Example 3: Check if a number is prime.\n",
    "\n",
    "def isPrime(n):\n",
    "    for n in range(2, int(n/2)):\n",
    "        if n % 1 == 0:\n",
    "            return False\n",
    "    return True\n",
    "    \n",
    "print(isPrime(91))"
   ]
  },
  {
   "cell_type": "code",
   "execution_count": 35,
   "id": "b6b5e06c",
   "metadata": {},
   "outputs": [
    {
     "name": "stdout",
     "output_type": "stream",
     "text": [
      "Apple is a fruit.\n",
      "Mango is a fruit.\n",
      "Purvesh is a fruit.\n"
     ]
    }
   ],
   "source": [
    "def fruits(fruit):\n",
    "    print(fruit + \" is a fruit.\")\n",
    "    \n",
    "fruits(\"Apple\")\n",
    "fruits(\"Mango\")\n",
    "fruits(\"Purvesh\")"
   ]
  },
  {
   "cell_type": "code",
   "execution_count": 41,
   "id": "43da6153",
   "metadata": {},
   "outputs": [
    {
     "name": "stdout",
     "output_type": "stream",
     "text": [
      "Purvesh is a student of class KG.\n",
      "Ved is a student of class X.\n"
     ]
    }
   ],
   "source": [
    "def print_name(name, grade):\n",
    "    print(f\"{name} is a student of class {grade}.\")\n",
    "    \n",
    "print_name(\"Purvesh\", \"KG\")\n",
    "print_name(\"Ved\", \"X\")"
   ]
  },
  {
   "cell_type": "code",
   "execution_count": 1,
   "id": "22625b73",
   "metadata": {},
   "outputs": [
    {
     "name": "stdout",
     "output_type": "stream",
     "text": [
      "Hi there, Welcome to store!\n",
      "Our menu and cost: {'Bananas': 15, 'Apples': 30, 'Oranges': 25, 'Kiwi': 20, 'Mango': 30}\n",
      "What would you like to have?: Bananas\n",
      "Okay, anything else?\n",
      "What would you like to have?: Kiwi\n",
      "Okay, anything else?\n",
      "What would you like to have?: Mango\n",
      "Okay, anything else?\n",
      "What would you like to have?: end\n",
      "Your cost is 65\n"
     ]
    }
   ],
   "source": [
    "# Alternate solution to grocery shopping.\n",
    "\n",
    "print(\"Hi there, Welcome to store!\")\n",
    "\n",
    "menu_dict = {\"Bananas\": 15, \"Apples\": 30, \"Oranges\": 25, \"Kiwi\": 20, \"Mango\": 30}\n",
    "\n",
    "print(f\"Our menu and cost: {menu_dict}\")\n",
    "\n",
    "cost = 0\n",
    "still_ordering = True\n",
    "\n",
    "while still_ordering:\n",
    "    food = input(\"What would you like to have?: \")\n",
    "    \n",
    "    if food == \"end\":\n",
    "        print(f\"Your cost is {cost}\")\n",
    "        break\n",
    "        \n",
    "    if food in menu_dict.keys():\n",
    "        print(\"Okay, anything else?\")\n",
    "        cost += menu_dict[food]\n",
    "    else:\n",
    "        print(\"Sorry, we do not have that.\")"
   ]
  },
  {
   "cell_type": "code",
   "execution_count": null,
   "id": "4ce43e47",
   "metadata": {},
   "outputs": [],
   "source": []
  }
 ],
 "metadata": {
  "kernelspec": {
   "display_name": "Python 3 (ipykernel)",
   "language": "python",
   "name": "python3"
  },
  "language_info": {
   "codemirror_mode": {
    "name": "ipython",
    "version": 3
   },
   "file_extension": ".py",
   "mimetype": "text/x-python",
   "name": "python",
   "nbconvert_exporter": "python",
   "pygments_lexer": "ipython3",
   "version": "3.9.5"
  }
 },
 "nbformat": 4,
 "nbformat_minor": 5
}
